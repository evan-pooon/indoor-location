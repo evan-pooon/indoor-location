{
 "cells": [
  {
   "cell_type": "code",
   "execution_count": 37,
   "metadata": {},
   "outputs": [
    {
     "data": {
      "text/html": [
       "<script>\n",
       "code_show=true; \n",
       "function code_toggle() {\n",
       " if (code_show){\n",
       " $('div.input').hide();\n",
       " } else {\n",
       " $('div.input').show();\n",
       " }\n",
       " code_show = !code_show\n",
       "} \n",
       "$( document ).ready(code_toggle);\n",
       "</script>\n",
       "The raw code for this IPython notebook is by default hidden for easier reading.\n",
       "To toggle on/off the raw code, click <a href=\"javascript:code_toggle()\">here</a>."
      ],
      "text/plain": [
       "<IPython.core.display.HTML object>"
      ]
     },
     "execution_count": 37,
     "metadata": {},
     "output_type": "execute_result"
    }
   ],
   "source": [
    "from IPython.display import HTML\n",
    "\n",
    "HTML('''<script>\n",
    "code_show=true; \n",
    "function code_toggle() {\n",
    " if (code_show){\n",
    " $('div.input').hide();\n",
    " } else {\n",
    " $('div.input').show();\n",
    " }\n",
    " code_show = !code_show\n",
    "} \n",
    "$( document ).ready(code_toggle);\n",
    "</script>\n",
    "The raw code for this IPython notebook is by default hidden for easier reading.\n",
    "To toggle on/off the raw code, click <a href=\"javascript:code_toggle()\">here</a>.''')"
   ]
  },
  {
   "cell_type": "markdown",
   "metadata": {},
   "source": [
    "# Appendix - More variables introduced"
   ]
  },
  {
   "cell_type": "code",
   "execution_count": 38,
   "metadata": {
    "collapsed": true
   },
   "outputs": [],
   "source": [
    "# Data reading and processing\n",
    "import re\n",
    "import pandas as pd\n",
    "import numpy as np\n",
    "import warnings\n",
    "from scipy.stats import randint as sp_randint\n",
    "from datetime import datetime\n",
    "\n",
    "import os\n",
    "from os import path\n",
    "\n",
    "# Visualisation\n",
    "from matplotlib import pyplot as plt\n",
    "from pandas_ml import ConfusionMatrix\n",
    "\n",
    "# Modelling\n",
    "from sklearn.linear_model import LogisticRegression, LinearRegression, Lasso, Ridge, ElasticNet\n",
    "from sklearn.tree import DecisionTreeClassifier\n",
    "from sklearn.ensemble import RandomForestClassifier, RandomForestRegressor, GradientBoostingRegressor\n",
    "from sklearn.neighbors import KNeighborsClassifier, KNeighborsRegressor\n",
    "from sklearn.discriminant_analysis import LinearDiscriminantAnalysis\n",
    "from sklearn.neural_network import MLPClassifier\n",
    "from sklearn.svm import SVC\n",
    "from sklearn.multioutput import MultiOutputRegressor\n",
    "\n",
    "from sklearn.model_selection import KFold, cross_val_score, RandomizedSearchCV, GridSearchCV\n",
    "from sklearn.metrics import confusion_matrix, accuracy_score, r2_score, mean_squared_error\n",
    "\n",
    "# Suppress warnings\n",
    "warnings.filterwarnings(\"ignore\")"
   ]
  },
  {
   "cell_type": "code",
   "execution_count": 39,
   "metadata": {
    "collapsed": true
   },
   "outputs": [],
   "source": [
    "# Setting current directory as same directory where code is stored\n",
    "try:\n",
    "    CUR_DIR = dirname(realpath(__file__))\n",
    "except NameError:\n",
    "    CUR_DIR = os.getcwd()"
   ]
  },
  {
   "cell_type": "code",
   "execution_count": 74,
   "metadata": {
    "collapsed": true
   },
   "outputs": [],
   "source": [
    "## Calculating distance        \n",
    "def pythagoras(long1, long2, lat1, lat2):\n",
    "    import math\n",
    "    a = abs(long1-long2)**2\n",
    "    b = abs(lat1-lat2)**2\n",
    "    return math.sqrt(a+b)"
   ]
  },
  {
   "cell_type": "markdown",
   "metadata": {},
   "source": [
    "## Data filtering and processing"
   ]
  },
  {
   "cell_type": "code",
   "execution_count": 41,
   "metadata": {},
   "outputs": [
    {
     "name": "stdout",
     "output_type": "stream",
     "text": [
      "Training dataset (length, width) = (19937, 529)\n",
      "Validation dataset (length, width) = (1111, 529)\n"
     ]
    }
   ],
   "source": [
    "# Import data files\n",
    "train = pd.DataFrame.from_csv(path.join(CUR_DIR, 'trainingData.csv'),index_col=None)\n",
    "test = pd.DataFrame.from_csv(path.join(CUR_DIR, 'validationData.csv'),index_col=None)\n",
    "\n",
    "print('Training dataset (length, width) = %s' % str(train.shape))\n",
    "print('Validation dataset (length, width) = %s' % str(test.shape))"
   ]
  },
  {
   "cell_type": "code",
   "execution_count": 42,
   "metadata": {
    "collapsed": true
   },
   "outputs": [],
   "source": [
    "sub_train = train[[x for x in train.columns if 'WAP' not in x]]\n",
    "sub_train['max_signal'] = train.loc[:,[x for x in train.columns if 'WAP' in x]].replace(100,np.NaN).max(axis=1)\n",
    "nan_sub = sub_train.loc[np.isnan(sub_train['max_signal']),]\n",
    "nan_rows = sub_train['max_signal'].isnull().sum()\n",
    "nan_rows_index = nan_sub.index.tolist()\n",
    "train = train.iloc[[x for x in train.index if x not in nan_rows_index]]\n",
    "wap_max = train[[x for x in train.columns if 'WAP' in x]].replace(100,np.nan).max(axis=0).reset_index()\n",
    "wap_max = wap_max.rename(columns={'index':'wap_name', 0: 'max_signal'}).fillna(10)\n",
    "cols_torm = wap_max.loc[wap_max['max_signal']==10,'wap_name'].tolist()\n",
    "train = train.drop(train[cols_torm],axis=1)\n",
    "test = test.drop(test[cols_torm],axis=1)\n",
    "\n",
    "# Creates single variable combining both targets\n",
    "train['target'] = 'B' + train['BUILDINGID'].astype(str) + ' x F' + train['FLOOR'].astype(str)\n",
    "test['target'] = 'B' + test['BUILDINGID'].astype(str) + ' x F' + test['FLOOR'].astype(str)"
   ]
  },
  {
   "cell_type": "markdown",
   "metadata": {},
   "source": [
    "## Data Modelling"
   ]
  },
  {
   "cell_type": "markdown",
   "metadata": {},
   "source": [
    "## Optimised Classification Model"
   ]
  },
  {
   "cell_type": "code",
   "execution_count": 43,
   "metadata": {},
   "outputs": [
    {
     "name": "stdout",
     "output_type": "stream",
     "text": [
      "Accuracy: 88.66%\n",
      "\tBuilding prediction accuracy: 100.00%\n",
      "\tFloor prediction accuracy: 88.66%\n"
     ]
    }
   ],
   "source": [
    "class_rf = RandomForestClassifier(random_state=20, n_jobs=-1, bootstrap=False, criterion='gini', max_depth=44, max_features='auto', min_samples_leaf=1,min_samples_split=3, n_estimators=1925)\n",
    "class_rf.fit(train[[x for x in train.columns if 'WAP' in x]], train['target'].ravel())\n",
    "class_preds = class_rf.predict(test[[x for x in train.columns if 'WAP' in x]])\n",
    "\n",
    "class_acc = accuracy_score(test['target'].ravel(), class_preds)\n",
    "print(\"Accuracy: %.2f%%\" % (class_acc*100))\n",
    "\n",
    "actual_class = test['target'].tolist()\n",
    "bldg_results = []\n",
    "floor_results = []\n",
    "for i, pred in enumerate(class_preds):\n",
    "    pred = pred.split(' x ')\n",
    "    act = actual_class[i].split(' x ')\n",
    "    bldg_results.append(pred[0] == act[0])\n",
    "    floor_results.append(pred[1] == act[1])\n",
    "\n",
    "\n",
    "pred_bldg = sum(bldg_results)/len(bldg_results)\n",
    "pred_floor = sum(floor_results)/len(floor_results)\n",
    "print(\"\\tBuilding prediction accuracy: %.2f%%\" % (pred_bldg*100))\n",
    "print(\"\\tFloor prediction accuracy: %.2f%%\" % (pred_floor*100))"
   ]
  },
  {
   "cell_type": "markdown",
   "metadata": {},
   "source": [
    "## Optimised Regression Model"
   ]
  },
  {
   "cell_type": "code",
   "execution_count": 44,
   "metadata": {},
   "outputs": [
    {
     "name": "stdout",
     "output_type": "stream",
     "text": [
      "R-squared score: 0.9779\n",
      "\tAccuracy radius: 12.94m\n"
     ]
    }
   ],
   "source": [
    "reg_knn = MultiOutputRegressor(KNeighborsRegressor(n_neighbors=3), n_jobs=-1)\n",
    "reg_knn.fit(train[[x for x in train.columns if 'WAP' in x]], train[['LATITUDE','LONGITUDE']].values)\n",
    "reg_preds = reg_knn.predict(test[[x for x in train.columns if 'WAP' in x]])\n",
    "reg_preds = tuple(map(tuple, reg_preds))\n",
    "\n",
    "rsq = r2_score(test[['LATITUDE','LONGITUDE']].values, reg_preds)\n",
    "print('R-squared score: %.4f' % rsq)\n",
    "\n",
    "actual_ll = tuple(map(tuple, test[['LATITUDE','LONGITUDE']].values))\n",
    "\n",
    "dist_results = []\n",
    "for i, pred in enumerate(reg_preds):\n",
    "    dist_results.append(pythagoras(lat1=pred[0],lat2=actual_ll[i][0],long1=pred[1],long2=actual_ll[i][1]))\n",
    "\n",
    "pred_radius = sum(dist_results) / float(len(dist_results))\n",
    "print(\"Accuracy radius: %.2fm\" % pred_radius)"
   ]
  },
  {
   "cell_type": "markdown",
   "metadata": {},
   "source": [
    "## Adding variables to modelling"
   ]
  },
  {
   "cell_type": "code",
   "execution_count": 45,
   "metadata": {
    "collapsed": true
   },
   "outputs": [],
   "source": [
    "train['time_weekday'] = train['TIMESTAMP'].apply(lambda x: datetime.fromtimestamp(x).strftime(\"%w\"))\n",
    "train['time_hour'] = train['TIMESTAMP'].apply(lambda x: datetime.fromtimestamp(x).strftime(\"%H\"))\n",
    "\n",
    "test['time_weekday'] = test['TIMESTAMP'].apply(lambda x: datetime.fromtimestamp(x).strftime(\"%w\"))\n",
    "test['time_hour'] = test['TIMESTAMP'].apply(lambda x: datetime.fromtimestamp(x).strftime(\"%H\"))"
   ]
  },
  {
   "cell_type": "markdown",
   "metadata": {},
   "source": [
    "### 1. Time of day"
   ]
  },
  {
   "cell_type": "code",
   "execution_count": 46,
   "metadata": {},
   "outputs": [
    {
     "name": "stdout",
     "output_type": "stream",
     "text": [
      "Classification Model -\n",
      "\tOverall accuracy score: 81.28% (-8.32% from original)\n",
      "\tBuilding prediction accuracy: 99.73% (-0.27% from original)\n",
      "\tFloor prediction accuracy: 81.28% (-8.32% from original)\n",
      "Regression Model -\n",
      "\tR-squared score: 0.9780 (0.01% from original)\n",
      "\tAccuracy radius: 12.94m (0.00% from original)\n"
     ]
    }
   ],
   "source": [
    "rf_tuned = RandomForestClassifier(random_state=20, n_jobs=-1, bootstrap=False, criterion='gini', max_depth=44, max_features='auto', min_samples_leaf=1,min_samples_split=3, n_estimators=1925)\n",
    "rf_tuned.fit(train[[x for x in train.columns if 'WAP' in x or x == 'time_hour']], train['target'].ravel())\n",
    "class_preds_tuned = rf_tuned.predict(test[[x for x in train.columns if 'WAP' in x or x == 'time_hour']])\n",
    "print(\"Classification Model -\")\n",
    "pred_class_acc = accuracy_score(test['target'].ravel(), class_preds_tuned)\n",
    "print(\"\\tOverall accuracy score: %.2f%% (%.2f%% from original)\" % ((pred_class_acc*100),((pred_class_acc-class_acc)/class_acc*100)))\n",
    "\n",
    "bldg_results_new = []\n",
    "floor_results_new = []\n",
    "for i, pred in enumerate(class_preds_tuned):\n",
    "    pred = pred.split(' x ')\n",
    "    act = actual_class[i].split(' x ')\n",
    "    bldg_results_new.append(pred[0] == act[0])\n",
    "    floor_results_new.append(pred[1] == act[1])\n",
    "\n",
    "pred_bldg_new = sum(bldg_results_new)/len(bldg_results_new)\n",
    "pred_floor_new = sum(floor_results_new)/len(floor_results_new)\n",
    "print(\"\\tBuilding prediction accuracy: %.2f%% (%.2f%% from original)\" % ((pred_bldg_new*100), ((pred_bldg_new-pred_bldg)/pred_bldg*100)))\n",
    "print(\"\\tFloor prediction accuracy: %.2f%% (%.2f%% from original)\" % ((pred_floor_new*100), ((pred_floor_new-pred_floor)/pred_floor*100)))\n",
    "\n",
    "reg_knn_tuned = MultiOutputRegressor(KNeighborsRegressor(n_neighbors=3), n_jobs=-1)\n",
    "reg_knn_tuned.fit(train[[x for x in train.columns if 'WAP' in x or x == 'time_hour']], train[['LATITUDE','LONGITUDE']].values)\n",
    "reg_preds_tuned = reg_knn_tuned.predict(test[[x for x in train.columns if 'WAP' in x or x == 'time_hour']])\n",
    "\n",
    "print(\"Regression Model -\")\n",
    "new_rsq = r2_score(test[['LATITUDE','LONGITUDE']].values, reg_preds_tuned)\n",
    "print('\\tR-squared score: %.4f (%.2f%% from original)' % (new_rsq,((new_rsq-rsq)/rsq*100)))\n",
    "\n",
    "dist_results = []\n",
    "for i, pred in enumerate(reg_preds):\n",
    "    dist_results.append(pythagoras(lat1=pred[0],lat2=actual_ll[i][0],long1=pred[1],long2=actual_ll[i][1]))\n",
    "\n",
    "pred_radius_new = sum(dist_results) / float(len(dist_results))\n",
    "print(\"\\tAccuracy radius: %.2fm (%.2f%% from original)\" % (pred_radius_new, ((pred_radius-pred_radius_new)/pred_radius)*100))"
   ]
  },
  {
   "cell_type": "markdown",
   "metadata": {},
   "source": [
    "### 2. Day of Week"
   ]
  },
  {
   "cell_type": "code",
   "execution_count": 53,
   "metadata": {},
   "outputs": [
    {
     "name": "stdout",
     "output_type": "stream",
     "text": [
      "Classification Model - \n",
      "\tOverall accuracy score: 86.50% (-2.44% from original)\n",
      "\tBuilding prediction accuracy: 99.91% (-0.09% from original)\n",
      "\tFloor prediction accuracy: 86.59% (-2.34% from original)\n",
      "Regression Model -\n",
      "\tR-squared score: 0.9779 (0.00% from original)\n",
      "\tAccuracy radius: 12.94m (0.00% from original)\n"
     ]
    }
   ],
   "source": [
    "rf_tuned = RandomForestClassifier(random_state=20, n_jobs=-1, bootstrap=False, criterion='gini', max_depth=44, max_features='auto', min_samples_leaf=1,min_samples_split=3, n_estimators=1925)\n",
    "rf_tuned.fit(train[[x for x in train.columns if 'WAP' in x or x == 'time_weekday']], train['target'].ravel())\n",
    "class_preds_tuned = rf_tuned.predict(test[[x for x in train.columns if 'WAP' in x or x == 'time_weekday']])\n",
    "print(\"Classification Model - \")\n",
    "pred_class_acc = accuracy_score(test['target'].ravel(), class_preds_tuned)\n",
    "print(\"\\tOverall accuracy score: %.2f%% (%.2f%% from original)\" % ((pred_class_acc*100),((pred_class_acc-class_acc)/class_acc*100)))\n",
    "\n",
    "bldg_results_new = []\n",
    "floor_results_new = []\n",
    "for i, pred in enumerate(class_preds_tuned):\n",
    "    pred = pred.split(' x ')\n",
    "    act = actual_class[i].split(' x ')\n",
    "    bldg_results_new.append(pred[0] == act[0])\n",
    "    floor_results_new.append(pred[1] == act[1])\n",
    "\n",
    "pred_bldg_new = sum(bldg_results_new)/len(bldg_results_new)\n",
    "pred_floor_new = sum(floor_results_new)/len(floor_results_new)\n",
    "print(\"\\tBuilding prediction accuracy: %.2f%% (%.2f%% from original)\" % ((pred_bldg_new*100), ((pred_bldg_new-pred_bldg)/pred_bldg*100)))\n",
    "print(\"\\tFloor prediction accuracy: %.2f%% (%.2f%% from original)\" % ((pred_floor_new*100), ((pred_floor_new-pred_floor)/pred_floor*100)))\n",
    "\n",
    "reg_knn_tuned = MultiOutputRegressor(KNeighborsRegressor(n_neighbors=3), n_jobs=-1)\n",
    "reg_knn_tuned.fit(train[[x for x in train.columns if 'WAP' in x or x == 'time_weekday']], train[['LATITUDE','LONGITUDE']].values)\n",
    "reg_preds_tuned = reg_knn_tuned.predict(test[[x for x in train.columns if 'WAP' in x or x == 'time_weekday']])\n",
    "\n",
    "print(\"Regression Model -\")\n",
    "new_rsq = r2_score(test[['LATITUDE','LONGITUDE']].values, reg_preds_tuned)\n",
    "print('\\tR-squared score: %.4f (%.2f%% from original)' % (new_rsq,((new_rsq-rsq)/rsq*100)))\n",
    "\n",
    "dist_results = []\n",
    "for i, pred in enumerate(reg_preds):\n",
    "    dist_results.append(pythagoras(lat1=pred[0],lat2=actual_ll[i][0],long1=pred[1],long2=actual_ll[i][1]))\n",
    "\n",
    "pred_radius_new = sum(dist_results) / float(len(dist_results))\n",
    "print(\"\\tAccuracy radius: %.2fm (%.2f%% from original)\" % (pred_radius_new, ((pred_radius-pred_radius_new)/pred_radius)*100))"
   ]
  },
  {
   "cell_type": "markdown",
   "metadata": {},
   "source": [
    "### 3. Phone Model"
   ]
  },
  {
   "cell_type": "code",
   "execution_count": 72,
   "metadata": {},
   "outputs": [
    {
     "name": "stdout",
     "output_type": "stream",
     "text": [
      "Classification Model - \n",
      "\tOverall accuracy score: 86.50% (-2.44% from original)\n",
      "\tBuilding prediction accuracy: 99.91% (-0.09% from original)\n",
      "\tFloor prediction accuracy: 86.50% (-2.44% from original)\n",
      "Regression Model -\n",
      "\tR-squared score: 0.9779 (-0.00% from original)\n",
      "\tAccuracy radius: 12.94m (0.00% from original)\n"
     ]
    }
   ],
   "source": [
    "rf_tuned = RandomForestClassifier(random_state=20, n_jobs=-1, bootstrap=False, criterion='gini', max_depth=44, max_features='auto', min_samples_leaf=1,min_samples_split=3, n_estimators=1925)\n",
    "rf_tuned.fit(train[[x for x in train.columns if 'WAP' in x or x == 'PHONEID']], train['target'].ravel())\n",
    "class_preds_tuned = rf_tuned.predict(test[[x for x in train.columns if 'WAP' in x or x == 'PHONEID']])\n",
    "print(\"Classification Model - \")\n",
    "pred_class_acc = accuracy_score(test['target'].ravel(), class_preds_tuned)\n",
    "print(\"\\tOverall accuracy score: %.2f%% (%.2f%% from original)\" % ((pred_class_acc*100),((pred_class_acc-class_acc)/class_acc*100)))\n",
    "\n",
    "bldg_results_new = []\n",
    "floor_results_new = []\n",
    "for i, pred in enumerate(class_preds_tuned):\n",
    "    pred = pred.split(' x ')\n",
    "    act = actual_class[i].split(' x ')\n",
    "    bldg_results_new.append(pred[0] == act[0])\n",
    "    floor_results_new.append(pred[1] == act[1])\n",
    "\n",
    "pred_bldg_new = sum(bldg_results_new)/len(bldg_results_new)\n",
    "pred_floor_new = sum(floor_results_new)/len(floor_results_new)\n",
    "print(\"\\tBuilding prediction accuracy: %.2f%% (%.2f%% from original)\" % ((pred_bldg_new*100), ((pred_bldg_new-pred_bldg)/pred_bldg*100)))\n",
    "print(\"\\tFloor prediction accuracy: %.2f%% (%.2f%% from original)\" % ((pred_floor_new*100), ((pred_floor_new-pred_floor)/pred_floor*100)))\n",
    "\n",
    "reg_knn_tuned = MultiOutputRegressor(KNeighborsRegressor(n_neighbors=3), n_jobs=-1)\n",
    "reg_knn_tuned.fit(train[[x for x in train.columns if 'WAP' in x or x == 'PHONEID']], train[['LATITUDE','LONGITUDE']].values)\n",
    "reg_preds_tuned = reg_knn_tuned.predict(test[[x for x in train.columns if 'WAP' in x or x == 'PHONEID']])\n",
    "\n",
    "print(\"Regression Model -\")\n",
    "new_rsq = r2_score(test[['LATITUDE','LONGITUDE']].values, reg_preds_tuned)\n",
    "print('\\tR-squared score: %.4f (%.2f%% from original)' % (new_rsq,((new_rsq-rsq)/rsq*100)))\n",
    "\n",
    "dist_results = []\n",
    "for i, pred in enumerate(reg_preds):\n",
    "    dist_results.append(pythagoras(lat1=pred[0],lat2=actual_ll[i][0],long1=pred[1],long2=actual_ll[i][1]))\n",
    "\n",
    "pred_radius_new = sum(dist_results) / float(len(dist_results))\n",
    "print(\"\\tAccuracy radius: %.2fm (%.2f%% from original)\" % (pred_radius_new, ((pred_radius-pred_radius_new)/pred_radius)*100))"
   ]
  },
  {
   "cell_type": "markdown",
   "metadata": {},
   "source": [
    "### 4. Phone Model + Time of Day"
   ]
  },
  {
   "cell_type": "code",
   "execution_count": 50,
   "metadata": {},
   "outputs": [
    {
     "name": "stdout",
     "output_type": "stream",
     "text": [
      "Classification Model - \n",
      "\tOverall accuracy score: 81.28% (-8.32% from original)\n",
      "\tBuilding prediction accuracy: 99.64% (-0.36% from original)\n",
      "\tFloor prediction accuracy: 81.28% (-8.32% from original)\n",
      "Regression Model -\n",
      "\tR-squared score: 0.9780 (0.01% from original)\n",
      "\tAccuracy radius: 12.94m (0.00% from original)\n"
     ]
    }
   ],
   "source": [
    "rf_tuned = RandomForestClassifier(random_state=20, n_jobs=-1, bootstrap=False, criterion='gini', max_depth=44, max_features='auto', min_samples_leaf=1,min_samples_split=3, n_estimators=1925)\n",
    "rf_tuned.fit(train[[x for x in train.columns if 'WAP' in x or x == 'PHONEID' or x == 'time_hour']], train['target'].ravel())\n",
    "class_preds_tuned = rf_tuned.predict(test[[x for x in train.columns if 'WAP' in x or x == 'PHONEID' or x == 'time_hour']])\n",
    "print(\"Classification Model - \")\n",
    "pred_class_acc = accuracy_score(test['target'].ravel(), class_preds_tuned)\n",
    "print(\"\\tOverall accuracy score: %.2f%% (%.2f%% from original)\" % ((pred_class_acc*100),((pred_class_acc-class_acc)/class_acc*100)))\n",
    "\n",
    "bldg_results_new = []\n",
    "floor_results_new = []\n",
    "for i, pred in enumerate(class_preds_tuned):\n",
    "    pred = pred.split(' x ')\n",
    "    act = actual_class[i].split(' x ')\n",
    "    bldg_results_new.append(pred[0] == act[0])\n",
    "    floor_results_new.append(pred[1] == act[1])\n",
    "\n",
    "pred_bldg_new = sum(bldg_results_new)/len(bldg_results_new)\n",
    "pred_floor_new = sum(floor_results_new)/len(floor_results_new)\n",
    "print(\"\\tBuilding prediction accuracy: %.2f%% (%.2f%% from original)\" % ((pred_bldg_new*100), ((pred_bldg_new-pred_bldg)/pred_bldg*100)))\n",
    "print(\"\\tFloor prediction accuracy: %.2f%% (%.2f%% from original)\" % ((pred_floor_new*100), ((pred_floor_new-pred_floor)/pred_floor*100)))\n",
    "\n",
    "reg_knn_tuned = MultiOutputRegressor(KNeighborsRegressor(n_neighbors=3), n_jobs=-1)\n",
    "reg_knn_tuned.fit(train[[x for x in train.columns if 'WAP' in x or x == 'PHONEID' or x == 'time_hour']], train[['LATITUDE','LONGITUDE']].values)\n",
    "reg_preds_tuned = reg_knn_tuned.predict(test[[x for x in train.columns if 'WAP' in x or x == 'PHONEID' or x == 'time_hour']])\n",
    "\n",
    "print(\"Regression Model -\")\n",
    "new_rsq = r2_score(test[['LATITUDE','LONGITUDE']].values, reg_preds_tuned)\n",
    "print('\\tR-squared score: %.4f (%.2f%% from original)' % (new_rsq,((new_rsq-rsq)/rsq*100)))\n",
    "\n",
    "dist_results = []\n",
    "for i, pred in enumerate(reg_preds):\n",
    "    dist_results.append(pythagoras(lat1=pred[0],lat2=actual_ll[i][0],long1=pred[1],long2=actual_ll[i][1]))\n",
    "\n",
    "pred_radius_new = sum(dist_results) / float(len(dist_results))\n",
    "print(\"\\tAccuracy radius: %.2fm (%.2f%% from original)\" % (pred_radius_new, ((pred_radius-pred_radius_new)/pred_radius)*100))"
   ]
  },
  {
   "cell_type": "markdown",
   "metadata": {},
   "source": [
    "### 5. Phone Model + Day of Week"
   ]
  },
  {
   "cell_type": "code",
   "execution_count": 51,
   "metadata": {},
   "outputs": [
    {
     "name": "stdout",
     "output_type": "stream",
     "text": [
      "Classification Model - \n",
      "\tOverall accuracy score: 84.61% (-4.57% from original)\n",
      "\tBuilding prediction accuracy: 99.37% (-0.63% from original)\n",
      "\tFloor prediction accuracy: 84.70% (-4.47% from original)\n",
      "Regression Model -\n",
      "\tR-squared score: 0.9779 (-0.00% from original)\n",
      "\tAccuracy radius: 12.94m (0.00% from original)\n"
     ]
    }
   ],
   "source": [
    "rf_tuned = RandomForestClassifier(random_state=20, n_jobs=-1, bootstrap=False, criterion='gini', max_depth=44, max_features='auto', min_samples_leaf=1,min_samples_split=3, n_estimators=1925)\n",
    "rf_tuned.fit(train[[x for x in train.columns if 'WAP' in x or x == 'PHONEID' or x == 'time_weekday']], train['target'].ravel())\n",
    "class_preds_tuned = rf_tuned.predict(test[[x for x in train.columns if 'WAP' in x or x == 'PHONEID' or x == 'time_weekday']])\n",
    "print(\"Classification Model - \")\n",
    "pred_class_acc = accuracy_score(test['target'].ravel(), class_preds_tuned)\n",
    "print(\"\\tOverall accuracy score: %.2f%% (%.2f%% from original)\" % ((pred_class_acc*100),((pred_class_acc-class_acc)/class_acc*100)))\n",
    "\n",
    "bldg_results_new = []\n",
    "floor_results_new = []\n",
    "for i, pred in enumerate(class_preds_tuned):\n",
    "    pred = pred.split(' x ')\n",
    "    act = actual_class[i].split(' x ')\n",
    "    bldg_results_new.append(pred[0] == act[0])\n",
    "    floor_results_new.append(pred[1] == act[1])\n",
    "\n",
    "pred_bldg_new = sum(bldg_results_new)/len(bldg_results_new)\n",
    "pred_floor_new = sum(floor_results_new)/len(floor_results_new)\n",
    "print(\"\\tBuilding prediction accuracy: %.2f%% (%.2f%% from original)\" % ((pred_bldg_new*100), ((pred_bldg_new-pred_bldg)/pred_bldg*100)))\n",
    "print(\"\\tFloor prediction accuracy: %.2f%% (%.2f%% from original)\" % ((pred_floor_new*100), ((pred_floor_new-pred_floor)/pred_floor*100)))\n",
    "\n",
    "reg_knn_tuned = MultiOutputRegressor(KNeighborsRegressor(n_neighbors=3), n_jobs=-1)\n",
    "reg_knn_tuned.fit(train[[x for x in train.columns if 'WAP' in x or x == 'PHONEID' or x == 'time_weekday']], train[['LATITUDE','LONGITUDE']].values)\n",
    "reg_preds_tuned = reg_knn_tuned.predict(test[[x for x in train.columns if 'WAP' in x or x == 'PHONEID' or x == 'time_weekday']])\n",
    "\n",
    "print(\"Regression Model -\")\n",
    "new_rsq = r2_score(test[['LATITUDE','LONGITUDE']].values, reg_preds_tuned)\n",
    "print('\\tR-squared score: %.4f (%.2f%% from original)' % (new_rsq,((new_rsq-rsq)/rsq*100)))\n",
    "\n",
    "dist_results = []\n",
    "for i, pred in enumerate(reg_preds):\n",
    "    dist_results.append(pythagoras(lat1=pred[0],lat2=actual_ll[i][0],long1=pred[1],long2=actual_ll[i][1]))\n",
    "\n",
    "pred_radius_new = sum(dist_results) / float(len(dist_results))\n",
    "print(\"\\tAccuracy radius: %.2fm (%.2f%% from original)\" % (pred_radius_new, ((pred_radius-pred_radius_new)/pred_radius)*100))"
   ]
  },
  {
   "cell_type": "markdown",
   "metadata": {},
   "source": [
    "### 6. Time of Day + Day of Week"
   ]
  },
  {
   "cell_type": "code",
   "execution_count": 52,
   "metadata": {},
   "outputs": [
    {
     "name": "stdout",
     "output_type": "stream",
     "text": [
      "Classification Model - \n",
      "\tOverall accuracy score: 83.08% (-6.29% from original)\n",
      "\tBuilding prediction accuracy: 99.55% (-0.45% from original)\n",
      "\tFloor prediction accuracy: 83.26% (-6.09% from original)\n",
      "Regression Model -\n",
      "\tR-squared score: 0.9780 (0.01% from original)\n",
      "\tAccuracy radius: 12.94m (0.00% from original)\n"
     ]
    }
   ],
   "source": [
    "rf_tuned = RandomForestClassifier(random_state=20, n_jobs=-1, bootstrap=False, criterion='gini', max_depth=44, max_features='auto', min_samples_leaf=1,min_samples_split=3, n_estimators=1925)\n",
    "rf_tuned.fit(train[[x for x in train.columns if 'WAP' in x or 'time_' in x]], train['target'].ravel())\n",
    "class_preds_tuned = rf_tuned.predict(test[[x for x in train.columns if 'WAP' in x or 'time_' in x]])\n",
    "print(\"Classification Model - \")\n",
    "pred_class_acc = accuracy_score(test['target'].ravel(), class_preds_tuned)\n",
    "print(\"\\tOverall accuracy score: %.2f%% (%.2f%% from original)\" % ((pred_class_acc*100),((pred_class_acc-class_acc)/class_acc*100)))\n",
    "\n",
    "bldg_results_new = []\n",
    "floor_results_new = []\n",
    "for i, pred in enumerate(class_preds_tuned):\n",
    "    pred = pred.split(' x ')\n",
    "    act = actual_class[i].split(' x ')\n",
    "    bldg_results_new.append(pred[0] == act[0])\n",
    "    floor_results_new.append(pred[1] == act[1])\n",
    "\n",
    "pred_bldg_new = sum(bldg_results_new)/len(bldg_results_new)\n",
    "pred_floor_new = sum(floor_results_new)/len(floor_results_new)\n",
    "print(\"\\tBuilding prediction accuracy: %.2f%% (%.2f%% from original)\" % ((pred_bldg_new*100), ((pred_bldg_new-pred_bldg)/pred_bldg*100)))\n",
    "print(\"\\tFloor prediction accuracy: %.2f%% (%.2f%% from original)\" % ((pred_floor_new*100), ((pred_floor_new-pred_floor)/pred_floor*100)))\n",
    "\n",
    "reg_knn_tuned = MultiOutputRegressor(KNeighborsRegressor(n_neighbors=3), n_jobs=-1)\n",
    "reg_knn_tuned.fit(train[[x for x in train.columns if 'WAP' in x or 'time_' in x]], train[['LATITUDE','LONGITUDE']].values)\n",
    "reg_preds_tuned = reg_knn_tuned.predict(test[[x for x in train.columns if 'WAP' in x or 'time_' in x]])\n",
    "\n",
    "print(\"Regression Model -\")\n",
    "new_rsq = r2_score(test[['LATITUDE','LONGITUDE']].values, reg_preds_tuned)\n",
    "print('\\tR-squared score: %.4f (%.2f%% from original)' % (new_rsq,((new_rsq-rsq)/rsq*100)))\n",
    "\n",
    "dist_results = []\n",
    "for i, pred in enumerate(reg_preds):\n",
    "    dist_results.append(pythagoras(lat1=pred[0],lat2=actual_ll[i][0],long1=pred[1],long2=actual_ll[i][1]))\n",
    "\n",
    "pred_radius_new = sum(dist_results) / float(len(dist_results))\n",
    "print(\"\\tAccuracy radius: %.2fm (%.2f%% from original)\" % (pred_radius_new, ((pred_radius-pred_radius_new)/pred_radius)*100))"
   ]
  },
  {
   "cell_type": "markdown",
   "metadata": {},
   "source": [
    "### 7. Combination of all 3"
   ]
  },
  {
   "cell_type": "code",
   "execution_count": 49,
   "metadata": {},
   "outputs": [
    {
     "name": "stdout",
     "output_type": "stream",
     "text": [
      "Classification Model - \n",
      "\tOverall accuracy score: 81.37% (-8.22% from original)\n",
      "\tBuilding prediction accuracy: 99.01% (-0.99% from original)\n",
      "\tFloor prediction accuracy: 81.55% (-8.02% from original)\n",
      "Regression Model -\n",
      "\tR-squared score: 0.9780 (0.01% from original)\n",
      "\tAccuracy radius: 12.94m (0.00% from original)\n"
     ]
    }
   ],
   "source": [
    "rf_tuned = RandomForestClassifier(random_state=20, n_jobs=-1, bootstrap=False, criterion='gini', max_depth=44, max_features='auto', min_samples_leaf=1,min_samples_split=3, n_estimators=1925)\n",
    "rf_tuned.fit(train[[x for x in train.columns if 'WAP' in x or 'time_' in x or x == 'PHONEID']], train['target'].ravel())\n",
    "class_preds_tuned = rf_tuned.predict(test[[x for x in train.columns if 'WAP' in x or 'time_' in x or x == 'PHONEID']])\n",
    "print(\"Classification Model - \")\n",
    "pred_class_acc = accuracy_score(test['target'].ravel(), class_preds_tuned)\n",
    "print(\"\\tOverall accuracy score: %.2f%% (%.2f%% from original)\" % ((pred_class_acc*100),((pred_class_acc-class_acc)/class_acc*100)))\n",
    "\n",
    "bldg_results_new = []\n",
    "floor_results_new = []\n",
    "for i, pred in enumerate(class_preds_tuned):\n",
    "    pred = pred.split(' x ')\n",
    "    act = actual_class[i].split(' x ')\n",
    "    bldg_results_new.append(pred[0] == act[0])\n",
    "    floor_results_new.append(pred[1] == act[1])\n",
    "\n",
    "pred_bldg_new = sum(bldg_results_new)/len(bldg_results_new)\n",
    "pred_floor_new = sum(floor_results_new)/len(floor_results_new)\n",
    "print(\"\\tBuilding prediction accuracy: %.2f%% (%.2f%% from original)\" % ((pred_bldg_new*100), ((pred_bldg_new-pred_bldg)/pred_bldg*100)))\n",
    "print(\"\\tFloor prediction accuracy: %.2f%% (%.2f%% from original)\" % ((pred_floor_new*100), ((pred_floor_new-pred_floor)/pred_floor*100)))\n",
    "\n",
    "reg_knn_tuned = MultiOutputRegressor(KNeighborsRegressor(n_neighbors=3), n_jobs=-1)\n",
    "reg_knn_tuned.fit(train[[x for x in train.columns if 'WAP' in x or 'time_' in x or x == 'PHONEID']], train[['LATITUDE','LONGITUDE']].values)\n",
    "reg_preds_tuned = reg_knn_tuned.predict(test[[x for x in train.columns if 'WAP' in x or 'time_' in x or x == 'PHONEID']])\n",
    "\n",
    "print(\"Regression Model -\")\n",
    "new_rsq = r2_score(test[['LATITUDE','LONGITUDE']].values, reg_preds_tuned)\n",
    "print('\\tR-squared score: %.4f (%.2f%% from original)' % (new_rsq,((new_rsq-rsq)/rsq*100)))\n",
    "\n",
    "dist_results = []\n",
    "for i, pred in enumerate(reg_preds):\n",
    "    dist_results.append(pythagoras(lat1=pred[0],lat2=actual_ll[i][0],long1=pred[1],long2=actual_ll[i][1]))\n",
    "\n",
    "pred_radius_new = sum(dist_results) / float(len(dist_results))\n",
    "print(\"\\tAccuracy radius: %.2fm (%.2f%% from original)\" % (pred_radius_new, ((pred_radius-pred_radius_new)/pred_radius)*100))"
   ]
  },
  {
   "cell_type": "markdown",
   "metadata": {},
   "source": [
    "### With the additional variables, the regression model largely remained the same while the classification model worsened in accuracy.\n",
    "* None of the additional models could provide a 100% prediction for Building\n",
    "* Day of Week and Phone Model (individually) provided the closest estimate to the original optimised model"
   ]
  }
 ],
 "metadata": {
  "kernelspec": {
   "display_name": "Python 3",
   "language": "python",
   "name": "python3"
  },
  "language_info": {
   "codemirror_mode": {
    "name": "ipython",
    "version": 3
   },
   "file_extension": ".py",
   "mimetype": "text/x-python",
   "name": "python",
   "nbconvert_exporter": "python",
   "pygments_lexer": "ipython3",
   "version": "3.7.3"
  },
  "varInspector": {
   "cols": {
    "lenName": 16,
    "lenType": 16,
    "lenVar": 40
   },
   "kernels_config": {
    "python": {
     "delete_cmd_postfix": "",
     "delete_cmd_prefix": "del ",
     "library": "var_list.py",
     "varRefreshCmd": "print(var_dic_list())"
    },
    "r": {
     "delete_cmd_postfix": ") ",
     "delete_cmd_prefix": "rm(",
     "library": "var_list.r",
     "varRefreshCmd": "cat(var_dic_list()) "
    }
   },
   "position": {
    "height": "384px",
    "left": "1140px",
    "right": "20px",
    "top": "275px",
    "width": "369px"
   },
   "types_to_exclude": [
    "module",
    "function",
    "builtin_function_or_method",
    "instance",
    "_Feature"
   ],
   "window_display": false
  }
 },
 "nbformat": 4,
 "nbformat_minor": 2
}
