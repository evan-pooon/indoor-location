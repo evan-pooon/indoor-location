{
 "cells": [
  {
   "cell_type": "code",
   "execution_count": 1,
   "metadata": {
    "colab": {
     "base_uri": "https://localhost:8080/",
     "height": 34
    },
    "colab_type": "code",
    "executionInfo": {
     "elapsed": 701,
     "status": "ok",
     "timestamp": 1568254285400,
     "user": {
      "displayName": "Evangeline Poon",
      "photoUrl": "",
      "userId": "16711755485015275751"
     },
     "user_tz": -480
    },
    "id": "X6EELU96Hxy4",
    "outputId": "dabf33be-fe3a-4089-998b-76bce672a6e0"
   },
   "outputs": [
    {
     "data": {
      "text/html": [
       "<script>\n",
       "code_show=true; \n",
       "function code_toggle() {\n",
       " if (code_show){\n",
       " $('div.input').hide();\n",
       " } else {\n",
       " $('div.input').show();\n",
       " }\n",
       " code_show = !code_show\n",
       "} \n",
       "$( document ).ready(code_toggle);\n",
       "</script>\n",
       "The raw code for this IPython notebook is by default hidden for easier reading.\n",
       "To toggle on/off the raw code, click <a href=\"javascript:code_toggle()\">here</a>."
      ],
      "text/plain": [
       "<IPython.core.display.HTML object>"
      ]
     },
     "execution_count": 1,
     "metadata": {},
     "output_type": "execute_result"
    }
   ],
   "source": [
    "from IPython.display import HTML\n",
    "\n",
    "HTML('''<script>\n",
    "code_show=true; \n",
    "function code_toggle() {\n",
    " if (code_show){\n",
    " $('div.input').hide();\n",
    " } else {\n",
    " $('div.input').show();\n",
    " }\n",
    " code_show = !code_show\n",
    "} \n",
    "$( document ).ready(code_toggle);\n",
    "</script>\n",
    "The raw code for this IPython notebook is by default hidden for easier reading.\n",
    "To toggle on/off the raw code, click <a href=\"javascript:code_toggle()\">here</a>.''')"
   ]
  },
  {
   "cell_type": "markdown",
   "metadata": {
    "colab_type": "text",
    "id": "w1RGubzkHxy9"
   },
   "source": [
    "# Appendix - More variables introduced"
   ]
  },
  {
   "cell_type": "code",
   "execution_count": 2,
   "metadata": {
    "colab": {
     "base_uri": "https://localhost:8080/",
     "height": 71
    },
    "colab_type": "code",
    "executionInfo": {
     "elapsed": 2485,
     "status": "ok",
     "timestamp": 1568254287191,
     "user": {
      "displayName": "Evangeline Poon",
      "photoUrl": "",
      "userId": "16711755485015275751"
     },
     "user_tz": -480
    },
    "id": "IjJYNOHEHxy9",
    "outputId": "9bb30e87-8b9d-4eb2-c2fb-4b6269c7d445"
   },
   "outputs": [],
   "source": [
    "# Data reading and processing\n",
    "import re\n",
    "import time\n",
    "import pandas as pd\n",
    "import numpy as np\n",
    "import warnings\n",
    "from datetime import datetime\n",
    "\n",
    "import os\n",
    "from os import path\n",
    "\n",
    "# Visualisation\n",
    "from matplotlib import pyplot as plt\n",
    "from pandas_ml import ConfusionMatrix\n",
    "\n",
    "# Modelling\n",
    "from sklearn.neighbors import KNeighborsRegressor\n",
    "from xgboost import XGBClassifier\n",
    "from sklearn.multioutput import MultiOutputRegressor\n",
    "\n",
    "from sklearn.metrics import accuracy_score, r2_score\n",
    "\n",
    "# Suppress warnings\n",
    "warnings.filterwarnings(\"ignore\")"
   ]
  },
  {
   "cell_type": "code",
   "execution_count": 3,
   "metadata": {
    "colab": {},
    "colab_type": "code",
    "id": "Kh8bjJn-Hxy_"
   },
   "outputs": [],
   "source": [
    "# Setting current directory as same directory where code is stored\n",
    "try:\n",
    "    CUR_DIR = dirname(realpath(__file__))\n",
    "except NameError:\n",
    "    CUR_DIR = os.getcwd()"
   ]
  },
  {
   "cell_type": "code",
   "execution_count": 4,
   "metadata": {
    "colab": {},
    "colab_type": "code",
    "id": "X_Qq2DeiHxzB"
   },
   "outputs": [],
   "source": [
    "## Calculating distance        \n",
    "def pythagoras(long1, long2, lat1, lat2):\n",
    "    import math\n",
    "    a = abs(long1-long2)**2\n",
    "    b = abs(lat1-lat2)**2\n",
    "    return math.sqrt(a+b)"
   ]
  },
  {
   "cell_type": "markdown",
   "metadata": {
    "colab_type": "text",
    "id": "ENi_IDyTHxzD"
   },
   "source": [
    "## Data filtering and processing"
   ]
  },
  {
   "cell_type": "code",
   "execution_count": 5,
   "metadata": {
    "colab": {
     "base_uri": "https://localhost:8080/",
     "height": 51
    },
    "colab_type": "code",
    "executionInfo": {
     "elapsed": 2438,
     "status": "ok",
     "timestamp": 1568255074817,
     "user": {
      "displayName": "Evangeline Poon",
      "photoUrl": "",
      "userId": "16711755485015275751"
     },
     "user_tz": -480
    },
    "id": "0BfE7pwIHxzE",
    "outputId": "090a3d68-8e6c-4e5c-be6c-fbaf407e44d4"
   },
   "outputs": [
    {
     "name": "stdout",
     "output_type": "stream",
     "text": [
      "Training dataset (length, width) = (19937, 529)\n",
      "Validation dataset (length, width) = (1111, 529)\n"
     ]
    }
   ],
   "source": [
    "# Import data files\n",
    "fp = os.path.join(CUR_DIR,\"input\")\n",
    "\n",
    "train = pd.DataFrame.from_csv(path.join(fp, 'trainingData.csv'),index_col=None)\n",
    "test = pd.DataFrame.from_csv(path.join(fp, 'validationData.csv'),index_col=None)\n",
    "print('Training dataset (length, width) = {}'.format(str(train.shape)))\n",
    "print('Validation dataset (length, width) = {}'.format(str(test.shape)))"
   ]
  },
  {
   "cell_type": "code",
   "execution_count": 6,
   "metadata": {
    "colab": {},
    "colab_type": "code",
    "id": "9BeMTzy6HxzG"
   },
   "outputs": [],
   "source": [
    "sub_train = train[[x for x in train.columns if 'WAP' not in x]]\n",
    "sub_train['max_signal'] = train.loc[:,[x for x in train.columns if 'WAP' in x]].replace(100,np.NaN).max(axis=1)\n",
    "nan_sub = sub_train.loc[np.isnan(sub_train['max_signal']),]\n",
    "nan_rows = sub_train['max_signal'].isnull().sum()\n",
    "nan_rows_index = nan_sub.index.tolist()\n",
    "train = train.iloc[[x for x in train.index if x not in nan_rows_index]]\n",
    "wap_max = train[[x for x in train.columns if 'WAP' in x]].replace(100,np.nan).max(axis=0).reset_index()\n",
    "wap_max = wap_max.rename(columns={'index':'wap_name', 0: 'max_signal'}).fillna(10)\n",
    "cols_torm = wap_max.loc[wap_max['max_signal']==10,'wap_name'].tolist()\n",
    "train = train.drop(train[cols_torm],axis=1)\n",
    "test = test.drop(test[cols_torm],axis=1)\n",
    "\n",
    "# Creates single variable combining both targets\n",
    "train['target'] = 'B' + train['BUILDINGID'].astype(str) + ' x F' + train['FLOOR'].astype(str)\n",
    "test['target'] = 'B' + test['BUILDINGID'].astype(str) + ' x F' + test['FLOOR'].astype(str)"
   ]
  },
  {
   "cell_type": "markdown",
   "metadata": {
    "colab_type": "text",
    "id": "aNMmQjlEHxzI"
   },
   "source": [
    "## Baseline Models"
   ]
  },
  {
   "cell_type": "markdown",
   "metadata": {
    "colab_type": "text",
    "id": "xDmPIqupHxzI"
   },
   "source": [
    "### Classification Model"
   ]
  },
  {
   "cell_type": "code",
   "execution_count": 7,
   "metadata": {
    "colab": {
     "base_uri": "https://localhost:8080/",
     "height": 68
    },
    "colab_type": "code",
    "executionInfo": {
     "elapsed": 85726,
     "status": "ok",
     "timestamp": 1568255158114,
     "user": {
      "displayName": "Evangeline Poon",
      "photoUrl": "",
      "userId": "16711755485015275751"
     },
     "user_tz": -480
    },
    "id": "GI4DwVnNHxzJ",
    "outputId": "2192e981-822c-47b9-82f5-5f553578fc40"
   },
   "outputs": [
    {
     "name": "stdout",
     "output_type": "stream",
     "text": [
      "Accuracy: 90.01%\n",
      "\tTime elapsed: 1383.86 seconds\n",
      "\tBuilding prediction accuracy: 99.82%\n",
      "\tFloor prediction accuracy: 90.01%\n"
     ]
    }
   ],
   "source": [
    "st = time.time()\n",
    "original_class_params = {'gamma': 0,\n",
    " 'learning_rate': 0.21164182169390228,\n",
    " 'max_depth': 3,\n",
    " 'min_child_weight': 3,\n",
    " 'n_estimators': 394,\n",
    " 'objective': 'multi:softprob'}\n",
    "class_xg = XGBClassifier(**original_class_params,num_classes=13,seed=20,n_jobs=-1)\n",
    "class_xg.fit(train[[x for x in train.columns if 'WAP' in x]], train['target'].ravel())\n",
    "class_preds = class_xg.predict(test[[x for x in train.columns if 'WAP' in x]])\n",
    "class_acc = accuracy_score(test['target'].ravel(), class_preds)\n",
    "print(\"Accuracy: {:.2f}%\".format(class_acc*100))\n",
    "print(\"\\tTime elapsed: {:.2f} seconds\".format(time.time()-st))\n",
    "\n",
    "actual_class = test['target'].tolist()\n",
    "bldg_results = []\n",
    "floor_results = []\n",
    "for i, pred in enumerate(class_preds):\n",
    "    pred = pred.split(' x ')\n",
    "    act = actual_class[i].split(' x ')\n",
    "    bldg_results.append(pred[0] == act[0])\n",
    "    floor_results.append(pred[1] == act[1])\n",
    "\n",
    "\n",
    "pred_bldg = sum(bldg_results)/len(bldg_results)\n",
    "pred_floor = sum(floor_results)/len(floor_results)\n",
    "print(\"\\tBuilding prediction accuracy: %.2f%%\" % (pred_bldg*100))\n",
    "print(\"\\tFloor prediction accuracy: %.2f%%\" % (pred_floor*100))"
   ]
  },
  {
   "cell_type": "markdown",
   "metadata": {
    "colab_type": "text",
    "id": "th_IvWy9HxzL"
   },
   "source": [
    "### Regression Model"
   ]
  },
  {
   "cell_type": "code",
   "execution_count": 8,
   "metadata": {
    "colab": {
     "base_uri": "https://localhost:8080/",
     "height": 51
    },
    "colab_type": "code",
    "executionInfo": {
     "elapsed": 25030,
     "status": "ok",
     "timestamp": 1568255424973,
     "user": {
      "displayName": "Evangeline Poon",
      "photoUrl": "",
      "userId": "16711755485015275751"
     },
     "user_tz": -480
    },
    "id": "14ibpRh9HxzL",
    "outputId": "fa3eecc7-9587-4ac8-d546-f3649c3d703e"
   },
   "outputs": [
    {
     "name": "stdout",
     "output_type": "stream",
     "text": [
      "R-squared score: 0.9722\n",
      "Accuracy radius: 12.94m\n"
     ]
    }
   ],
   "source": [
    "reg_knn = MultiOutputRegressor(KNeighborsRegressor(n_neighbors=3))\n",
    "reg_knn.fit(train[[x for x in train.columns if 'WAP' in x]], train[['LATITUDE','LONGITUDE']].values)\n",
    "reg_preds = reg_knn.predict(test[[x for x in train.columns if 'WAP' in x]])\n",
    "reg_preds = tuple(map(tuple, reg_preds))\n",
    "\n",
    "rsq = r2_score(test[['LATITUDE','LONGITUDE']].values, reg_preds)\n",
    "print('R-squared score: %.4f' % rsq)\n",
    "\n",
    "actual_ll = tuple(map(tuple, test[['LATITUDE','LONGITUDE']].values))\n",
    "\n",
    "dist_results = []\n",
    "for i, pred in enumerate(reg_preds):\n",
    "    dist_results.append(pythagoras(lat1=pred[0],lat2=actual_ll[i][0],long1=pred[1],long2=actual_ll[i][1]))\n",
    "\n",
    "pred_radius = sum(dist_results) / float(len(dist_results))\n",
    "print(\"Accuracy radius: %.2fm\" % pred_radius)"
   ]
  },
  {
   "cell_type": "markdown",
   "metadata": {
    "colab_type": "text",
    "id": "TWOLe5zmHxzN"
   },
   "source": [
    "## Adding variables to modelling"
   ]
  },
  {
   "cell_type": "code",
   "execution_count": 13,
   "metadata": {
    "colab": {},
    "colab_type": "code",
    "id": "mNl1S9kqHxzO"
   },
   "outputs": [],
   "source": [
    "train['time_weekday'] = train['TIMESTAMP'].apply(lambda x: int(datetime.fromtimestamp(x).strftime(\"%w\")))\n",
    "train['time_hour'] = train['TIMESTAMP'].apply(lambda x: int(datetime.fromtimestamp(x).strftime(\"%H\")))\n",
    "\n",
    "test['time_weekday'] = test['TIMESTAMP'].apply(lambda x: int(datetime.fromtimestamp(x).strftime(\"%w\")))\n",
    "test['time_hour'] = test['TIMESTAMP'].apply(lambda x: int(datetime.fromtimestamp(x).strftime(\"%H\")))"
   ]
  },
  {
   "cell_type": "markdown",
   "metadata": {
    "colab_type": "text",
    "id": "iLbbsU0GHxzQ"
   },
   "source": [
    "### 1. Time of day"
   ]
  },
  {
   "cell_type": "code",
   "execution_count": 19,
   "metadata": {},
   "outputs": [
    {
     "name": "stdout",
     "output_type": "stream",
     "text": [
      "Classification Model -\n",
      "\tOverall accuracy score: 68.50% (-23.90% from original)\n",
      "\tBuilding prediction accuracy: 98.20% (-1.62% from original)\n",
      "\tFloor prediction accuracy: 68.95% (-23.40% from original)\n",
      "Regression Model -\n",
      "\tR-squared score: 0.9723 (0.01% from original)\n",
      "\tAccuracy radius: 12.94m (0.00% from original)\n"
     ]
    }
   ],
   "source": [
    "print(\"Classification Model -\")\n",
    "class_xg.fit(train[[x for x in train.columns if 'WAP' in x or x == 'time_hour']], train['target'].ravel())\n",
    "class_preds_tuned = class_xg.predict(test[[x for x in train.columns if 'WAP' in x or x == 'time_hour']])\n",
    "\n",
    "pred_class_acc = accuracy_score(test['target'].ravel(), class_preds_tuned)\n",
    "print(\"\\tOverall accuracy score: %.2f%% (%.2f%% from original)\" % ((pred_class_acc*100),((pred_class_acc-class_acc)/class_acc*100)))\n",
    "\n",
    "bldg_results_new = []\n",
    "floor_results_new = []\n",
    "for i, pred in enumerate(class_preds_tuned):\n",
    "    pred = pred.split(' x ')\n",
    "    act = actual_class[i].split(' x ')\n",
    "    bldg_results_new.append(pred[0] == act[0])\n",
    "    floor_results_new.append(pred[1] == act[1])\n",
    "\n",
    "pred_bldg_new = sum(bldg_results_new)/len(bldg_results_new)\n",
    "pred_floor_new = sum(floor_results_new)/len(floor_results_new)\n",
    "print(\"\\tBuilding prediction accuracy: %.2f%% (%.2f%% from original)\" % ((pred_bldg_new*100), ((pred_bldg_new-pred_bldg)/pred_bldg*100)))\n",
    "print(\"\\tFloor prediction accuracy: %.2f%% (%.2f%% from original)\" % ((pred_floor_new*100), ((pred_floor_new-pred_floor)/pred_floor*100)))\n",
    "\n",
    "print(\"Regression Model -\")\n",
    "reg_knn.fit(train[[x for x in train.columns if 'WAP' in x or x == 'time_hour']], train[['LATITUDE','LONGITUDE']].values)\n",
    "reg_preds_tuned = reg_knn.predict(test[[x for x in train.columns if 'WAP' in x or x == 'time_hour']])\n",
    "\n",
    "new_rsq = r2_score(test[['LATITUDE','LONGITUDE']].values, reg_preds_tuned)\n",
    "print('\\tR-squared score: %.4f (%.2f%% from original)' % (new_rsq,((new_rsq-rsq)/rsq*100)))\n",
    "\n",
    "dist_results = []\n",
    "for i, pred in enumerate(reg_preds):\n",
    "    dist_results.append(pythagoras(lat1=pred[0],lat2=actual_ll[i][0],long1=pred[1],long2=actual_ll[i][1]))\n",
    "\n",
    "pred_radius_new = sum(dist_results) / float(len(dist_results))\n",
    "print(\"\\tAccuracy radius: %.2fm (%.2f%% from original)\" % (pred_radius_new, ((pred_radius-pred_radius_new)/pred_radius)*100))"
   ]
  },
  {
   "cell_type": "markdown",
   "metadata": {
    "colab_type": "text",
    "id": "0kGi5D5bHxzT"
   },
   "source": [
    "### 2. Day of Week"
   ]
  },
  {
   "cell_type": "code",
   "execution_count": 21,
   "metadata": {
    "colab": {
     "base_uri": "https://localhost:8080/",
     "height": 136
    },
    "colab_type": "code",
    "executionInfo": {
     "elapsed": 131883,
     "status": "ok",
     "timestamp": 1568256186830,
     "user": {
      "displayName": "Evangeline Poon",
      "photoUrl": "",
      "userId": "16711755485015275751"
     },
     "user_tz": -480
    },
    "id": "ZhCfmheQHxzT",
    "outputId": "e7281d69-08d5-40c9-cb63-4724d2d7d817"
   },
   "outputs": [
    {
     "name": "stdout",
     "output_type": "stream",
     "text": [
      "Classification Model - \n",
      "\tOverall accuracy score: 83.71% (-7.00% from original)\n",
      "\tBuilding prediction accuracy: 97.93% (-1.89% from original)\n",
      "\tFloor prediction accuracy: 83.80% (-6.90% from original)\n",
      "Regression Model -\n",
      "\tR-squared score: 0.9722 (0.00% from original)\n",
      "\tAccuracy radius: 12.94m (0.00% from original)\n"
     ]
    }
   ],
   "source": [
    "class_xg.fit(train[[x for x in train.columns if 'WAP' in x or x == 'time_weekday']], train['target'].ravel())\n",
    "class_preds_tuned = class_xg.predict(test[[x for x in train.columns if 'WAP' in x or x == 'time_weekday']])\n",
    "print(\"Classification Model - \")\n",
    "pred_class_acc = accuracy_score(test['target'].ravel(), class_preds_tuned)\n",
    "print(\"\\tOverall accuracy score: %.2f%% (%.2f%% from original)\" % ((pred_class_acc*100),((pred_class_acc-class_acc)/class_acc*100)))\n",
    "\n",
    "bldg_results_new = []\n",
    "floor_results_new = []\n",
    "for i, pred in enumerate(class_preds_tuned):\n",
    "    pred = pred.split(' x ')\n",
    "    act = actual_class[i].split(' x ')\n",
    "    bldg_results_new.append(pred[0] == act[0])\n",
    "    floor_results_new.append(pred[1] == act[1])\n",
    "\n",
    "pred_bldg_new = sum(bldg_results_new)/len(bldg_results_new)\n",
    "pred_floor_new = sum(floor_results_new)/len(floor_results_new)\n",
    "print(\"\\tBuilding prediction accuracy: %.2f%% (%.2f%% from original)\" % ((pred_bldg_new*100), ((pred_bldg_new-pred_bldg)/pred_bldg*100)))\n",
    "print(\"\\tFloor prediction accuracy: %.2f%% (%.2f%% from original)\" % ((pred_floor_new*100), ((pred_floor_new-pred_floor)/pred_floor*100)))\n",
    "\n",
    "reg_knn.fit(train[[x for x in train.columns if 'WAP' in x or x == 'time_weekday']], train[['LATITUDE','LONGITUDE']].values)\n",
    "reg_preds_tuned = reg_knn.predict(test[[x for x in train.columns if 'WAP' in x or x == 'time_weekday']])\n",
    "\n",
    "print(\"Regression Model -\")\n",
    "new_rsq = r2_score(test[['LATITUDE','LONGITUDE']].values, reg_preds_tuned)\n",
    "print('\\tR-squared score: %.4f (%.2f%% from original)' % (new_rsq,((new_rsq-rsq)/rsq*100)))\n",
    "\n",
    "dist_results = []\n",
    "for i, pred in enumerate(reg_preds):\n",
    "    dist_results.append(pythagoras(lat1=pred[0],lat2=actual_ll[i][0],long1=pred[1],long2=actual_ll[i][1]))\n",
    "\n",
    "pred_radius_new = sum(dist_results) / float(len(dist_results))\n",
    "print(\"\\tAccuracy radius: %.2fm (%.2f%% from original)\" % (pred_radius_new, ((pred_radius-pred_radius_new)/pred_radius)*100))"
   ]
  },
  {
   "cell_type": "markdown",
   "metadata": {
    "colab_type": "text",
    "id": "8xwOWG10HxzV"
   },
   "source": [
    "### 3. Phone Model"
   ]
  },
  {
   "cell_type": "code",
   "execution_count": 22,
   "metadata": {
    "colab": {
     "base_uri": "https://localhost:8080/",
     "height": 136
    },
    "colab_type": "code",
    "executionInfo": {
     "elapsed": 257808,
     "status": "ok",
     "timestamp": 1568256312760,
     "user": {
      "displayName": "Evangeline Poon",
      "photoUrl": "",
      "userId": "16711755485015275751"
     },
     "user_tz": -480
    },
    "id": "S_bHYUOMHxzY",
    "outputId": "008f2563-d1eb-45a0-fe53-b87c12abbdd1"
   },
   "outputs": [
    {
     "name": "stdout",
     "output_type": "stream",
     "text": [
      "Classification Model - \n",
      "\tOverall accuracy score: 81.01% (-10.00% from original)\n",
      "\tBuilding prediction accuracy: 98.38% (-1.44% from original)\n",
      "\tFloor prediction accuracy: 81.10% (-9.90% from original)\n",
      "Regression Model -\n",
      "\tR-squared score: 0.9722 (-0.00% from original)\n",
      "\tAccuracy radius: 12.94m (0.00% from original)\n"
     ]
    }
   ],
   "source": [
    "class_xg.fit(train[[x for x in train.columns if 'WAP' in x or x == 'PHONEID']], train['target'].ravel())\n",
    "class_preds_tuned = class_xg.predict(test[[x for x in train.columns if 'WAP' in x or x == 'PHONEID']])\n",
    "print(\"Classification Model - \")\n",
    "pred_class_acc = accuracy_score(test['target'].ravel(), class_preds_tuned)\n",
    "print(\"\\tOverall accuracy score: %.2f%% (%.2f%% from original)\" % ((pred_class_acc*100),((pred_class_acc-class_acc)/class_acc*100)))\n",
    "\n",
    "bldg_results_new = []\n",
    "floor_results_new = []\n",
    "for i, pred in enumerate(class_preds_tuned):\n",
    "    pred = pred.split(' x ')\n",
    "    act = actual_class[i].split(' x ')\n",
    "    bldg_results_new.append(pred[0] == act[0])\n",
    "    floor_results_new.append(pred[1] == act[1])\n",
    "\n",
    "pred_bldg_new = sum(bldg_results_new)/len(bldg_results_new)\n",
    "pred_floor_new = sum(floor_results_new)/len(floor_results_new)\n",
    "print(\"\\tBuilding prediction accuracy: %.2f%% (%.2f%% from original)\" % ((pred_bldg_new*100), ((pred_bldg_new-pred_bldg)/pred_bldg*100)))\n",
    "print(\"\\tFloor prediction accuracy: %.2f%% (%.2f%% from original)\" % ((pred_floor_new*100), ((pred_floor_new-pred_floor)/pred_floor*100)))\n",
    "\n",
    "# reg_knn = MultiOutputRegressor(KNeighborsRegressor(n_neighbors=3))\n",
    "reg_knn.fit(train[[x for x in train.columns if 'WAP' in x or x == 'PHONEID']], train[['LATITUDE','LONGITUDE']].values)\n",
    "reg_preds_tuned = reg_knn.predict(test[[x for x in train.columns if 'WAP' in x or x == 'PHONEID']])\n",
    "\n",
    "print(\"Regression Model -\")\n",
    "new_rsq = r2_score(test[['LATITUDE','LONGITUDE']].values, reg_preds_tuned)\n",
    "print('\\tR-squared score: %.4f (%.2f%% from original)' % (new_rsq,((new_rsq-rsq)/rsq*100)))\n",
    "\n",
    "dist_results = []\n",
    "for i, pred in enumerate(reg_preds):\n",
    "    dist_results.append(pythagoras(lat1=pred[0],lat2=actual_ll[i][0],long1=pred[1],long2=actual_ll[i][1]))\n",
    "\n",
    "pred_radius_new = sum(dist_results) / float(len(dist_results))\n",
    "print(\"\\tAccuracy radius: %.2fm (%.2f%% from original)\" % (pred_radius_new, ((pred_radius-pred_radius_new)/pred_radius)*100))"
   ]
  },
  {
   "cell_type": "markdown",
   "metadata": {
    "colab_type": "text",
    "id": "SXLRc-yvHxzZ"
   },
   "source": [
    "### 4. Phone Model + Time of Day"
   ]
  },
  {
   "cell_type": "code",
   "execution_count": 23,
   "metadata": {
    "colab": {
     "base_uri": "https://localhost:8080/",
     "height": 136
    },
    "colab_type": "code",
    "executionInfo": {
     "elapsed": 384661,
     "status": "ok",
     "timestamp": 1568256439618,
     "user": {
      "displayName": "Evangeline Poon",
      "photoUrl": "",
      "userId": "16711755485015275751"
     },
     "user_tz": -480
    },
    "id": "CXe7AMchHxza",
    "outputId": "49a11277-e347-437a-ff12-4c5f97fc0f08"
   },
   "outputs": [
    {
     "name": "stdout",
     "output_type": "stream",
     "text": [
      "Classification Model - \n",
      "\tOverall accuracy score: 56.35% (-37.40% from original)\n",
      "\tBuilding prediction accuracy: 90.91% (-8.93% from original)\n",
      "\tFloor prediction accuracy: 56.80% (-36.90% from original)\n",
      "Regression Model -\n",
      "\tR-squared score: 0.9723 (0.01% from original)\n",
      "\tAccuracy radius: 12.94m (0.00% from original)\n"
     ]
    }
   ],
   "source": [
    "class_xg.fit(train[[x for x in train.columns if 'WAP' in x or x == 'PHONEID' or x == 'time_hour']], train['target'].ravel())\n",
    "class_preds_tuned = class_xg.predict(test[[x for x in train.columns if 'WAP' in x or x == 'PHONEID' or x == 'time_hour']])\n",
    "print(\"Classification Model - \")\n",
    "pred_class_acc = accuracy_score(test['target'].ravel(), class_preds_tuned)\n",
    "print(\"\\tOverall accuracy score: %.2f%% (%.2f%% from original)\" % ((pred_class_acc*100),((pred_class_acc-class_acc)/class_acc*100)))\n",
    "\n",
    "bldg_results_new = []\n",
    "floor_results_new = []\n",
    "for i, pred in enumerate(class_preds_tuned):\n",
    "    pred = pred.split(' x ')\n",
    "    act = actual_class[i].split(' x ')\n",
    "    bldg_results_new.append(pred[0] == act[0])\n",
    "    floor_results_new.append(pred[1] == act[1])\n",
    "\n",
    "pred_bldg_new = sum(bldg_results_new)/len(bldg_results_new)\n",
    "pred_floor_new = sum(floor_results_new)/len(floor_results_new)\n",
    "print(\"\\tBuilding prediction accuracy: %.2f%% (%.2f%% from original)\" % ((pred_bldg_new*100), ((pred_bldg_new-pred_bldg)/pred_bldg*100)))\n",
    "print(\"\\tFloor prediction accuracy: %.2f%% (%.2f%% from original)\" % ((pred_floor_new*100), ((pred_floor_new-pred_floor)/pred_floor*100)))\n",
    "\n",
    "reg_knn.fit(train[[x for x in train.columns if 'WAP' in x or x == 'PHONEID' or x == 'time_hour']], train[['LATITUDE','LONGITUDE']].values)\n",
    "reg_preds_tuned = reg_knn.predict(test[[x for x in train.columns if 'WAP' in x or x == 'PHONEID' or x == 'time_hour']])\n",
    "\n",
    "print(\"Regression Model -\")\n",
    "new_rsq = r2_score(test[['LATITUDE','LONGITUDE']].values, reg_preds_tuned)\n",
    "print('\\tR-squared score: %.4f (%.2f%% from original)' % (new_rsq,((new_rsq-rsq)/rsq*100)))\n",
    "\n",
    "dist_results = []\n",
    "for i, pred in enumerate(reg_preds):\n",
    "    dist_results.append(pythagoras(lat1=pred[0],lat2=actual_ll[i][0],long1=pred[1],long2=actual_ll[i][1]))\n",
    "\n",
    "pred_radius_new = sum(dist_results) / float(len(dist_results))\n",
    "print(\"\\tAccuracy radius: %.2fm (%.2f%% from original)\" % (pred_radius_new, ((pred_radius-pred_radius_new)/pred_radius)*100))"
   ]
  },
  {
   "cell_type": "markdown",
   "metadata": {
    "colab_type": "text",
    "id": "jRasvmyXHxzb"
   },
   "source": [
    "### 5. Phone Model + Day of Week"
   ]
  },
  {
   "cell_type": "code",
   "execution_count": 24,
   "metadata": {
    "colab": {
     "base_uri": "https://localhost:8080/",
     "height": 136
    },
    "colab_type": "code",
    "executionInfo": {
     "elapsed": 511807,
     "status": "ok",
     "timestamp": 1568256566769,
     "user": {
      "displayName": "Evangeline Poon",
      "photoUrl": "",
      "userId": "16711755485015275751"
     },
     "user_tz": -480
    },
    "id": "IGj8SNiDHxzc",
    "outputId": "3b0ad2fe-c5db-431f-cfd4-f5aa9c51d75d"
   },
   "outputs": [
    {
     "name": "stdout",
     "output_type": "stream",
     "text": [
      "Classification Model - \n",
      "\tOverall accuracy score: 73.63% (-18.20% from original)\n",
      "\tBuilding prediction accuracy: 93.70% (-6.13% from original)\n",
      "\tFloor prediction accuracy: 74.62% (-17.10% from original)\n",
      "Regression Model -\n",
      "\tR-squared score: 0.9722 (-0.00% from original)\n",
      "\tAccuracy radius: 12.94m (0.00% from original)\n"
     ]
    }
   ],
   "source": [
    "class_xg.fit(train[[x for x in train.columns if 'WAP' in x or x == 'PHONEID' or x == 'time_weekday']], train['target'].ravel())\n",
    "class_preds_tuned = class_xg.predict(test[[x for x in train.columns if 'WAP' in x or x == 'PHONEID' or x == 'time_weekday']])\n",
    "print(\"Classification Model - \")\n",
    "pred_class_acc = accuracy_score(test['target'].ravel(), class_preds_tuned)\n",
    "print(\"\\tOverall accuracy score: %.2f%% (%.2f%% from original)\" % ((pred_class_acc*100),((pred_class_acc-class_acc)/class_acc*100)))\n",
    "\n",
    "bldg_results_new = []\n",
    "floor_results_new = []\n",
    "for i, pred in enumerate(class_preds_tuned):\n",
    "    pred = pred.split(' x ')\n",
    "    act = actual_class[i].split(' x ')\n",
    "    bldg_results_new.append(pred[0] == act[0])\n",
    "    floor_results_new.append(pred[1] == act[1])\n",
    "\n",
    "pred_bldg_new = sum(bldg_results_new)/len(bldg_results_new)\n",
    "pred_floor_new = sum(floor_results_new)/len(floor_results_new)\n",
    "print(\"\\tBuilding prediction accuracy: %.2f%% (%.2f%% from original)\" % ((pred_bldg_new*100), ((pred_bldg_new-pred_bldg)/pred_bldg*100)))\n",
    "print(\"\\tFloor prediction accuracy: %.2f%% (%.2f%% from original)\" % ((pred_floor_new*100), ((pred_floor_new-pred_floor)/pred_floor*100)))\n",
    "\n",
    "reg_knn.fit(train[[x for x in train.columns if 'WAP' in x or x == 'PHONEID' or x == 'time_weekday']], train[['LATITUDE','LONGITUDE']].values)\n",
    "reg_preds_tuned = reg_knn.predict(test[[x for x in train.columns if 'WAP' in x or x == 'PHONEID' or x == 'time_weekday']])\n",
    "\n",
    "print(\"Regression Model -\")\n",
    "new_rsq = r2_score(test[['LATITUDE','LONGITUDE']].values, reg_preds_tuned)\n",
    "print('\\tR-squared score: %.4f (%.2f%% from original)' % (new_rsq,((new_rsq-rsq)/rsq*100)))\n",
    "\n",
    "dist_results = []\n",
    "for i, pred in enumerate(reg_preds):\n",
    "    dist_results.append(pythagoras(lat1=pred[0],lat2=actual_ll[i][0],long1=pred[1],long2=actual_ll[i][1]))\n",
    "\n",
    "pred_radius_new = sum(dist_results) / float(len(dist_results))\n",
    "print(\"\\tAccuracy radius: %.2fm (%.2f%% from original)\" % (pred_radius_new, ((pred_radius-pred_radius_new)/pred_radius)*100))"
   ]
  },
  {
   "cell_type": "markdown",
   "metadata": {
    "colab_type": "text",
    "id": "jp-SfEvtHxzd"
   },
   "source": [
    "### 6. Time of Day + Day of Week"
   ]
  },
  {
   "cell_type": "code",
   "execution_count": 25,
   "metadata": {
    "colab": {
     "base_uri": "https://localhost:8080/",
     "height": 136
    },
    "colab_type": "code",
    "executionInfo": {
     "elapsed": 638914,
     "status": "ok",
     "timestamp": 1568256693881,
     "user": {
      "displayName": "Evangeline Poon",
      "photoUrl": "",
      "userId": "16711755485015275751"
     },
     "user_tz": -480
    },
    "id": "oD-8wKBxHxze",
    "outputId": "23684d36-91a6-4d80-f6fb-7a6441104a07"
   },
   "outputs": [
    {
     "name": "stdout",
     "output_type": "stream",
     "text": [
      "Classification Model - \n",
      "\tOverall accuracy score: 61.21% (-32.00% from original)\n",
      "\tBuilding prediction accuracy: 90.91% (-8.93% from original)\n",
      "\tFloor prediction accuracy: 65.71% (-27.00% from original)\n",
      "Regression Model -\n",
      "\tR-squared score: 0.9723 (0.01% from original)\n",
      "\tAccuracy radius: 12.94m (0.00% from original)\n"
     ]
    }
   ],
   "source": [
    "class_xg.fit(train[[x for x in train.columns if 'WAP' in x or 'time_' in x]], train['target'].ravel())\n",
    "class_preds_tuned = class_xg.predict(test[[x for x in train.columns if 'WAP' in x or 'time_' in x]])\n",
    "print(\"Classification Model - \")\n",
    "pred_class_acc = accuracy_score(test['target'].ravel(), class_preds_tuned)\n",
    "print(\"\\tOverall accuracy score: %.2f%% (%.2f%% from original)\" % ((pred_class_acc*100),((pred_class_acc-class_acc)/class_acc*100)))\n",
    "\n",
    "bldg_results_new = []\n",
    "floor_results_new = []\n",
    "for i, pred in enumerate(class_preds_tuned):\n",
    "    pred = pred.split(' x ')\n",
    "    act = actual_class[i].split(' x ')\n",
    "    bldg_results_new.append(pred[0] == act[0])\n",
    "    floor_results_new.append(pred[1] == act[1])\n",
    "\n",
    "pred_bldg_new = sum(bldg_results_new)/len(bldg_results_new)\n",
    "pred_floor_new = sum(floor_results_new)/len(floor_results_new)\n",
    "print(\"\\tBuilding prediction accuracy: %.2f%% (%.2f%% from original)\" % ((pred_bldg_new*100), ((pred_bldg_new-pred_bldg)/pred_bldg*100)))\n",
    "print(\"\\tFloor prediction accuracy: %.2f%% (%.2f%% from original)\" % ((pred_floor_new*100), ((pred_floor_new-pred_floor)/pred_floor*100)))\n",
    "\n",
    "reg_knn.fit(train[[x for x in train.columns if 'WAP' in x or 'time_' in x]], train[['LATITUDE','LONGITUDE']].values)\n",
    "reg_preds_tuned = reg_knn.predict(test[[x for x in train.columns if 'WAP' in x or 'time_' in x]])\n",
    "\n",
    "print(\"Regression Model -\")\n",
    "new_rsq = r2_score(test[['LATITUDE','LONGITUDE']].values, reg_preds_tuned)\n",
    "print('\\tR-squared score: %.4f (%.2f%% from original)' % (new_rsq,((new_rsq-rsq)/rsq*100)))\n",
    "\n",
    "dist_results = []\n",
    "for i, pred in enumerate(reg_preds):\n",
    "    dist_results.append(pythagoras(lat1=pred[0],lat2=actual_ll[i][0],long1=pred[1],long2=actual_ll[i][1]))\n",
    "\n",
    "pred_radius_new = sum(dist_results) / float(len(dist_results))\n",
    "print(\"\\tAccuracy radius: %.2fm (%.2f%% from original)\" % (pred_radius_new, ((pred_radius-pred_radius_new)/pred_radius)*100))"
   ]
  },
  {
   "cell_type": "markdown",
   "metadata": {
    "colab_type": "text",
    "id": "JkriUilrHxzf"
   },
   "source": [
    "### 7. Combination of all 3"
   ]
  },
  {
   "cell_type": "code",
   "execution_count": 26,
   "metadata": {
    "colab": {
     "base_uri": "https://localhost:8080/",
     "height": 136
    },
    "colab_type": "code",
    "executionInfo": {
     "elapsed": 340,
     "status": "ok",
     "timestamp": 1568256821798,
     "user": {
      "displayName": "Evangeline Poon",
      "photoUrl": "",
      "userId": "16711755485015275751"
     },
     "user_tz": -480
    },
    "id": "ZfjWWCECHxzg",
    "outputId": "43f82951-b75d-4b11-a134-9c54593fee57"
   },
   "outputs": [
    {
     "name": "stdout",
     "output_type": "stream",
     "text": [
      "Classification Model - \n",
      "\tOverall accuracy score: 50.68% (-43.70% from original)\n",
      "\tBuilding prediction accuracy: 83.80% (-16.05% from original)\n",
      "\tFloor prediction accuracy: 57.25% (-36.40% from original)\n",
      "Regression Model -\n",
      "\tR-squared score: 0.9723 (0.01% from original)\n",
      "\tAccuracy radius: 12.94m (0.00% from original)\n"
     ]
    }
   ],
   "source": [
    "class_xg.fit(train[[x for x in train.columns if 'WAP' in x or 'time_' in x or x == 'PHONEID']], train['target'].ravel())\n",
    "class_preds_tuned = class_xg.predict(test[[x for x in train.columns if 'WAP' in x or 'time_' in x or x == 'PHONEID']])\n",
    "print(\"Classification Model - \")\n",
    "pred_class_acc = accuracy_score(test['target'].ravel(), class_preds_tuned)\n",
    "print(\"\\tOverall accuracy score: %.2f%% (%.2f%% from original)\" % ((pred_class_acc*100),((pred_class_acc-class_acc)/class_acc*100)))\n",
    "\n",
    "bldg_results_new = []\n",
    "floor_results_new = []\n",
    "for i, pred in enumerate(class_preds_tuned):\n",
    "    pred = pred.split(' x ')\n",
    "    act = actual_class[i].split(' x ')\n",
    "    bldg_results_new.append(pred[0] == act[0])\n",
    "    floor_results_new.append(pred[1] == act[1])\n",
    "\n",
    "pred_bldg_new = sum(bldg_results_new)/len(bldg_results_new)\n",
    "pred_floor_new = sum(floor_results_new)/len(floor_results_new)\n",
    "print(\"\\tBuilding prediction accuracy: %.2f%% (%.2f%% from original)\" % ((pred_bldg_new*100), ((pred_bldg_new-pred_bldg)/pred_bldg*100)))\n",
    "print(\"\\tFloor prediction accuracy: %.2f%% (%.2f%% from original)\" % ((pred_floor_new*100), ((pred_floor_new-pred_floor)/pred_floor*100)))\n",
    "\n",
    "reg_knn.fit(train[[x for x in train.columns if 'WAP' in x or 'time_' in x or x == 'PHONEID']], train[['LATITUDE','LONGITUDE']].values)\n",
    "reg_preds_tuned = reg_knn.predict(test[[x for x in train.columns if 'WAP' in x or 'time_' in x or x == 'PHONEID']])\n",
    "\n",
    "print(\"Regression Model -\")\n",
    "new_rsq = r2_score(test[['LATITUDE','LONGITUDE']].values, reg_preds_tuned)\n",
    "print('\\tR-squared score: %.4f (%.2f%% from original)' % (new_rsq,((new_rsq-rsq)/rsq*100)))\n",
    "\n",
    "dist_results = []\n",
    "for i, pred in enumerate(reg_preds):\n",
    "    dist_results.append(pythagoras(lat1=pred[0],lat2=actual_ll[i][0],long1=pred[1],long2=actual_ll[i][1]))\n",
    "\n",
    "pred_radius_new = sum(dist_results) / float(len(dist_results))\n",
    "print(\"\\tAccuracy radius: %.2fm (%.2f%% from original)\" % (pred_radius_new, ((pred_radius-pred_radius_new)/pred_radius)*100))"
   ]
  },
  {
   "cell_type": "markdown",
   "metadata": {
    "colab_type": "text",
    "id": "O_ZdU0nOHxzi"
   },
   "source": [
    "## Conclusion\n",
    "With the additional variables, the regression model largely remained the same while the classification model worsened in accuracy.\n",
    "\n",
    "* None of the additional models could provide a 100% prediction for Building\n",
    "* Day of Week and Phone Model (individually) provided the closest estimate to the original optimised model"
   ]
  }
 ],
 "metadata": {
  "accelerator": "GPU",
  "colab": {
   "collapsed_sections": [],
   "name": "Appendix - Modelling.ipynb",
   "provenance": [],
   "toc_visible": true,
   "version": "0.3.2"
  },
  "kernelspec": {
   "display_name": "personal-github",
   "language": "python",
   "name": "personal-github"
  },
  "language_info": {
   "codemirror_mode": {
    "name": "ipython",
    "version": 3
   },
   "file_extension": ".py",
   "mimetype": "text/x-python",
   "name": "python",
   "nbconvert_exporter": "python",
   "pygments_lexer": "ipython3",
   "version": "3.7.4"
  },
  "varInspector": {
   "cols": {
    "lenName": 16,
    "lenType": 16,
    "lenVar": 40
   },
   "kernels_config": {
    "python": {
     "delete_cmd_postfix": "",
     "delete_cmd_prefix": "del ",
     "library": "var_list.py",
     "varRefreshCmd": "print(var_dic_list())"
    },
    "r": {
     "delete_cmd_postfix": ") ",
     "delete_cmd_prefix": "rm(",
     "library": "var_list.r",
     "varRefreshCmd": "cat(var_dic_list()) "
    }
   },
   "position": {
    "height": "384px",
    "left": "1140px",
    "right": "20px",
    "top": "275px",
    "width": "369px"
   },
   "types_to_exclude": [
    "module",
    "function",
    "builtin_function_or_method",
    "instance",
    "_Feature"
   ],
   "window_display": false
  }
 },
 "nbformat": 4,
 "nbformat_minor": 1
}
