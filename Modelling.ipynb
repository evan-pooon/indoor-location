{
 "cells": [
  {
   "cell_type": "code",
   "execution_count": 52,
   "metadata": {
    "colab": {
     "base_uri": "https://localhost:8080/",
     "height": 34
    },
    "colab_type": "code",
    "executionInfo": {
     "elapsed": 802,
     "status": "ok",
     "timestamp": 1568722525770,
     "user": {
      "displayName": "Evangeline Poon",
      "photoUrl": "",
      "userId": "16711755485015275751"
     },
     "user_tz": -480
    },
    "id": "cyUUssu7C0_t",
    "outputId": "bb6b965f-7c1a-4bc9-b4b6-3d14b9dfaa62"
   },
   "outputs": [
    {
     "data": {
      "text/html": [
       "<script>\n",
       "code_show=true; \n",
       "function code_toggle() {\n",
       " if (code_show){\n",
       " $('div.input').hide();\n",
       " } else {\n",
       " $('div.input').show();\n",
       " }\n",
       " code_show = !code_show\n",
       "} \n",
       "$( document ).ready(code_toggle);\n",
       "</script>\n",
       "The raw code for this IPython notebook is by default hidden for easier reading.\n",
       "To toggle on/off the raw code, click <a href=\"javascript:code_toggle()\">here</a>."
      ],
      "text/plain": [
       "<IPython.core.display.HTML object>"
      ]
     },
     "execution_count": 52,
     "metadata": {},
     "output_type": "execute_result"
    }
   ],
   "source": [
    "from IPython.display import HTML\n",
    "\n",
    "HTML('''<script>\n",
    "code_show=true; \n",
    "function code_toggle() {\n",
    " if (code_show){\n",
    " $('div.input').hide();\n",
    " } else {\n",
    " $('div.input').show();\n",
    " }\n",
    " code_show = !code_show\n",
    "} \n",
    "$( document ).ready(code_toggle);\n",
    "</script>\n",
    "The raw code for this IPython notebook is by default hidden for easier reading.\n",
    "To toggle on/off the raw code, click <a href=\"javascript:code_toggle()\">here</a>.''')"
   ]
  },
  {
   "cell_type": "markdown",
   "metadata": {
    "colab_type": "text",
    "id": "LQHb5aFMC0_w"
   },
   "source": [
    "# Modelling & Predictions"
   ]
  },
  {
   "cell_type": "code",
   "execution_count": 2,
   "metadata": {
    "colab": {
     "base_uri": "https://localhost:8080/",
     "height": 71
    },
    "colab_type": "code",
    "executionInfo": {
     "elapsed": 1525,
     "status": "ok",
     "timestamp": 1568722526505,
     "user": {
      "displayName": "Evangeline Poon",
      "photoUrl": "",
      "userId": "16711755485015275751"
     },
     "user_tz": -480
    },
    "id": "Z_OqOo7XC0_x",
    "outputId": "bf6eeccd-05b4-41f4-f9fc-0b4b837cb346",
    "scrolled": false
   },
   "outputs": [],
   "source": [
    "# Data reading and processing\n",
    "import re\n",
    "import pandas as pd\n",
    "import numpy as np\n",
    "import warnings\n",
    "import time\n",
    "from scipy.stats import randint as sp_randint, uniform as sp_uniform\n",
    "from datetime import datetime\n",
    "\n",
    "import os\n",
    "from os import path\n",
    "\n",
    "# Visualisation\n",
    "from matplotlib import pyplot as plt\n",
    "from pandas_ml import ConfusionMatrix\n",
    "\n",
    "# Modelling\n",
    "from sklearn.linear_model import LogisticRegression, LinearRegression, Lasso, Ridge, ElasticNet\n",
    "from sklearn.tree import DecisionTreeClassifier\n",
    "from sklearn.ensemble import RandomForestClassifier, RandomForestRegressor, GradientBoostingRegressor\n",
    "from sklearn.neighbors import KNeighborsClassifier, KNeighborsRegressor\n",
    "from sklearn.discriminant_analysis import LinearDiscriminantAnalysis\n",
    "from sklearn.neural_network import MLPClassifier\n",
    "from sklearn.multioutput import MultiOutputRegressor\n",
    "from xgboost import XGBClassifier, XGBRegressor\n",
    "from catboost import CatBoostClassifier, CatBoostRegressor\n",
    "\n",
    "from sklearn.model_selection import KFold, cross_val_score, RandomizedSearchCV, GridSearchCV\n",
    "from sklearn.metrics import confusion_matrix, accuracy_score, r2_score, mean_squared_error\n",
    "\n",
    "# Suppress warnings\n",
    "warnings.filterwarnings(\"ignore\")"
   ]
  },
  {
   "cell_type": "code",
   "execution_count": 3,
   "metadata": {
    "colab": {},
    "colab_type": "code",
    "id": "KV3x9mmqC0_z"
   },
   "outputs": [],
   "source": [
    "# Setting current directory as same directory where code is stored\n",
    "try:\n",
    "    CUR_DIR = dirname(realpath(__file__))\n",
    "except NameError:\n",
    "    CUR_DIR = os.getcwd()"
   ]
  },
  {
   "cell_type": "code",
   "execution_count": 40,
   "metadata": {
    "colab": {},
    "colab_type": "code",
    "id": "jrgHNsAMC0_0"
   },
   "outputs": [],
   "source": [
    "# Additional functions\n",
    "## Print confusion matrix\n",
    "def print_cm(cm, labels, hide_zeroes=False, hide_diagonal=False, hide_threshold=None):\n",
    "    columnwidth = max([len(x) for x in labels] + [5])  # 5 is value length\n",
    "    empty_cell = \" \" * columnwidth\n",
    "    # Print header\n",
    "    print(\"    \" + empty_cell, end=\" \")\n",
    "    for label in labels:\n",
    "        print(\"%{0}s\".format(columnwidth) % label, end=\" \")\n",
    "    print()\n",
    "    # Print rows\n",
    "    for i, label1 in enumerate(labels):\n",
    "        print(\"    %{0}s\".format(columnwidth) % label1, end=\" \")\n",
    "        for j in range(len(labels)):\n",
    "            cell = \"%{0}.i\".format(columnwidth) % cm[i, j]\n",
    "            if hide_zeroes:\n",
    "                cell = cell if float(cm[i, j]) != 0 else empty_cell\n",
    "            if hide_diagonal:\n",
    "                cell = cell if i != j else empty_cell\n",
    "            if hide_threshold:\n",
    "                cell = cell if cm[i, j] > hide_threshold else empty_cell\n",
    "            print(cell, end=\" \")\n",
    "        print()\n",
    "\n",
    "        \n",
    "def create_clustered_bar(matrix, axis):\n",
    "    bar_renderers = []\n",
    "    x = np.arange(matrix.shape[0])\n",
    "    dx = (np.arange(matrix.shape[1])-matrix.shape[1]/2.)/(matrix.shape[1]+2.)\n",
    "    d = 1./(matrix.shape[1]+2.)\n",
    "\n",
    "    for i in range(matrix.shape[1]):\n",
    "        r = axis.bar(x+dx[i],matrix[:,i], width=d)\n",
    "        bar_renderers.append(r)\n",
    "    return bar_renderers\n",
    " \n",
    "    \n",
    "## Calculating distance        \n",
    "def pythagoras(long1, long2, lat1, lat2):\n",
    "    import math\n",
    "    a = abs(long1-long2)**2\n",
    "    b = abs(lat1-lat2)**2\n",
    "    return math.sqrt(a+b)"
   ]
  },
  {
   "cell_type": "markdown",
   "metadata": {
    "colab_type": "text",
    "id": "ijTm-hbHC0_2"
   },
   "source": [
    "## Reading in data"
   ]
  },
  {
   "cell_type": "code",
   "execution_count": 5,
   "metadata": {
    "colab": {
     "base_uri": "https://localhost:8080/",
     "height": 545
    },
    "colab_type": "code",
    "executionInfo": {
     "elapsed": 1488,
     "status": "error",
     "timestamp": 1568722564414,
     "user": {
      "displayName": "Evangeline Poon",
      "photoUrl": "",
      "userId": "16711755485015275751"
     },
     "user_tz": -480
    },
    "id": "PRh9G1iZC0_4",
    "outputId": "58c3d4d3-bc06-402d-ddc4-e941c2fff8b9"
   },
   "outputs": [
    {
     "name": "stdout",
     "output_type": "stream",
     "text": [
      "Training dataset (length, width) = (19937, 529)\n",
      "Validation dataset (length, width) = (1111, 529)\n"
     ]
    }
   ],
   "source": [
    "# # Import data files\n",
    "fp = os.path.join(CUR_DIR,\"input\")\n",
    "\n",
    "train = pd.DataFrame.from_csv(path.join(fp, 'trainingData.csv'),index_col=None)\n",
    "test = pd.DataFrame.from_csv(path.join(fp, 'validationData.csv'),index_col=None)\n",
    "print('Training dataset (length, width) = {}'.format(str(train.shape)))\n",
    "print('Validation dataset (length, width) = {}'.format(str(test.shape)))\n",
    "\n",
    "# # Import mapping files\n",
    "map_user = pd.DataFrame.from_csv(path.join(fp, 'userMap.csv'),index_col=None)\n",
    "map_phone = pd.DataFrame.from_csv(path.join(fp, 'phoneMap.csv'),index_col=None)"
   ]
  },
  {
   "cell_type": "markdown",
   "metadata": {
    "colab_type": "text",
    "id": "Ro5y20H_Ge_u"
   },
   "source": [
    "## Removing columns\n",
    "As per EDA, certain WAPs do not have RSSI values across all records. These columns are removed. "
   ]
  },
  {
   "cell_type": "code",
   "execution_count": 6,
   "metadata": {
    "colab": {},
    "colab_type": "code",
    "id": "oDy8YPTTC1Ad"
   },
   "outputs": [
    {
     "name": "stdout",
     "output_type": "stream",
     "text": [
      "Number of WAP variables removed: 55\n",
      "Remaining WAP variables: 465\n"
     ]
    }
   ],
   "source": [
    "sub_train = train[[x for x in train.columns if 'WAP' not in x]]\n",
    "sub_train['max_signal'] = train.loc[:,[x for x in train.columns if 'WAP' in x]].replace(100,np.NaN).max(axis=1)\n",
    "nan_sub = sub_train.loc[np.isnan(sub_train['max_signal']),]\n",
    "nan_rows = sub_train['max_signal'].isnull().sum()\n",
    "nan_rows_index = nan_sub.index.tolist()\n",
    "train = train.iloc[[x for x in train.index if x not in nan_rows_index]]\n",
    "wap_max = train[[x for x in train.columns if 'WAP' in x]].replace(100,np.nan).max(axis=0).reset_index()\n",
    "wap_max = wap_max.rename(columns={'index':'wap_name', 0: 'max_signal'}).fillna(10)\n",
    "cols_torm = wap_max.loc[wap_max['max_signal']==10,'wap_name'].tolist()\n",
    "train = train.drop(train[cols_torm],axis=1)\n",
    "test = test.drop(test[cols_torm],axis=1)\n",
    "\n",
    "print('Number of WAP variables removed: {}'.format(len(cols_torm)))\n",
    "print('Remaining WAP variables: {}'.format(len([x for x in train.columns if 'WAP' in x])))"
   ]
  },
  {
   "cell_type": "markdown",
   "metadata": {
    "colab_type": "text",
    "id": "76vZMEBUC1Af"
   },
   "source": [
    "# Predictive Modelling"
   ]
  },
  {
   "cell_type": "markdown",
   "metadata": {
    "colab_type": "text",
    "id": "FK7fdAvpC1Af"
   },
   "source": [
    "## a) Classification Algorithms\n",
    "\n",
    "### Input variables: WAP001 to WAP520\n",
    "Excluding the 55 WAP variables with no RSSI readings\n",
    "### Target variables: Building and Floor\n",
    "Total classes: 13 (cross join of all available buildings and floors)"
   ]
  },
  {
   "cell_type": "code",
   "execution_count": 7,
   "metadata": {
    "colab": {},
    "colab_type": "code",
    "id": "027S7OslC1Ag"
   },
   "outputs": [],
   "source": [
    "# Creates single variable combining both targets\n",
    "train['target'] = 'B' + train['BUILDINGID'].astype(str) + ' x F' + train['FLOOR'].astype(str)\n",
    "test['target'] = 'B' + test['BUILDINGID'].astype(str) + ' x F' + test['FLOOR'].astype(str)"
   ]
  },
  {
   "cell_type": "markdown",
   "metadata": {
    "colab_type": "text",
    "id": "Z2qONeIRC1Ah"
   },
   "source": [
    "### Step 1: Algorithm selection\n",
    "\n",
    "* A mixture of linear and non-linear models are selected\n",
    "* Using 5-fold cross validation to evaluate which model has the highest **accuracy**"
   ]
  },
  {
   "cell_type": "code",
   "execution_count": 8,
   "metadata": {
    "colab": {},
    "colab_type": "code",
    "id": "G-y4hcU3C1Ah"
   },
   "outputs": [
    {
     "name": "stdout",
     "output_type": "stream",
     "text": [
      "Linear Discriminant Analysis: 0.6927 (0.1543)\n",
      "\tTime elapsed: 10.83 seconds\n",
      "Decision Tree: 0.6480 (0.1650)\n",
      "\tTime elapsed: 1.87 seconds\n",
      "Random Forest: 0.7279 (0.2096)\n",
      "\tTime elapsed: 1.36 seconds\n",
      "Neural Network: 0.7240 (0.1506)\n",
      "\tTime elapsed: 47.77 seconds\n",
      "XGBoost: 0.7525 (0.2025)\n",
      "\tTime elapsed: 956.02 seconds\n",
      "CatBoost: 0.6498 (0.1798)\n",
      "\tTime elapsed: 446.06 seconds\n"
     ]
    }
   ],
   "source": [
    "class_models = []\n",
    "class_models.append(('Linear Discriminant Analysis', LinearDiscriminantAnalysis()))\n",
    "class_models.append(('Decision Tree', DecisionTreeClassifier(random_state=20)))\n",
    "class_models.append(('Random Forest', RandomForestClassifier(random_state=20)))\n",
    "class_models.append(('Neural Network', MLPClassifier(random_state=20)))\n",
    "class_models.append(('XGBoost', XGBClassifier(random_state=20)))\n",
    "class_models.append(('CatBoost', CatBoostClassifier(silent=True,iterations=200,random_seed=20)))\n",
    "\n",
    "# evaluate each model in turn\n",
    "class_results = []\n",
    "class_names = []\n",
    "for name, model in class_models:\n",
    "    st = time.time()\n",
    "    kfold = KFold(n_splits=5, random_state=20)\n",
    "    cv_results = cross_val_score(model, train[[x for x in train.columns if 'WAP' in x]], train['target'].ravel(), cv=kfold, scoring='accuracy',n_jobs=-1)\n",
    "    class_results.append(cv_results)\n",
    "    class_names.append(name)\n",
    "    print(\"{}: {:.4f} ({:.4f})\".format(name, cv_results.mean(), cv_results.std()))\n",
    "    print(\"\\tTime elapsed: {:.2f} seconds\".format(time.time()-st))"
   ]
  },
  {
   "cell_type": "code",
   "execution_count": 9,
   "metadata": {
    "colab": {},
    "colab_type": "code",
    "id": "Sx1pE8OlC1Aj"
   },
   "outputs": [
    {
     "data": {
      "image/png": "[encoded data removed]",
      "text/plain": [
       "<Figure size 1080x360 with 1 Axes>"
      ]
     },
     "metadata": {
      "needs_background": "light"
     },
     "output_type": "display_data"
    }
   ],
   "source": [
    "# Compare Algorithms\n",
    "fig = plt.figure(figsize=(15,5))\n",
    "fig.suptitle('Algorithm Comparison',fontsize=20)\n",
    "ax = fig.add_subplot(111)\n",
    "plt.boxplot(class_results)\n",
    "ax.set_xticklabels(class_names,rotation=40)\n",
    "plt.show()"
   ]
  },
  {
   "cell_type": "markdown",
   "metadata": {
    "colab_type": "text",
    "id": "z1uEjgauC1Ak"
   },
   "source": [
    "**XGBoost** has highest average accuracy, hence will be the model selected for the classification."
   ]
  },
  {
   "cell_type": "markdown",
   "metadata": {
    "colab_type": "text",
    "id": "1sXkM0yNC1Ak"
   },
   "source": [
    "### Step 2: Running model and evaluation of results\n",
    "Algorithm selected: **XGBoost**"
   ]
  },
  {
   "cell_type": "code",
   "execution_count": 10,
   "metadata": {
    "colab": {},
    "colab_type": "code",
    "id": "9y5sHeRrC1Ak"
   },
   "outputs": [
    {
     "name": "stdout",
     "output_type": "stream",
     "text": [
      "Accuracy: 87.67%\n",
      "\tTime elapsed: 502.58 seconds\n"
     ]
    }
   ],
   "source": [
    "st = time.time()\n",
    "original_class_params = {\n",
    "  \"learning_rate\":0.1,\n",
    "  \"n_estimators\":100,\n",
    "  \"max_depth\":5,\n",
    "  \"min_child_weight\":1,\n",
    "  \"gamma\":0,\n",
    "  \"alpha\":0,\n",
    "  \"lambda\":1,\n",
    "}\n",
    "class_xg = XGBClassifier(**original_class_params,objective=\"multi:softmax\",num_classes=13,seed=20,n_jobs=-1)\n",
    "class_xg.fit(train[[x for x in train.columns if 'WAP' in x]], train['target'].ravel())\n",
    "class_preds = class_xg.predict(test[[x for x in train.columns if 'WAP' in x]])\n",
    "print(\"Accuracy: {:.2f}%\".format(accuracy_score(test['target'].ravel(), class_preds)*100))\n",
    "print(\"\\tTime elapsed: {:.2f} seconds\".format(time.time()-st))"
   ]
  },
  {
   "cell_type": "code",
   "execution_count": 11,
   "metadata": {
    "colab": {},
    "colab_type": "code",
    "id": "1kwSo9T1C1Ao"
   },
   "outputs": [
    {
     "name": "stdout",
     "output_type": "stream",
     "text": [
      "Confusion Matrix:\n",
      "\n",
      "            B0 x F0 B0 x F1 B0 x F2 B0 x F3 B1 x F0 B1 x F1 B1 x F2 B1 x F3 B2 x F0 B2 x F1 B2 x F2 B2 x F3 B2 x F4 \n",
      "    B0 x F0      73       2       3       0       0       0       0       0       0       0       0       0       0 \n",
      "    B0 x F1       3     189      14       0       0       0       0       2       0       0       0       0       0 \n",
      "    B0 x F2       0       3     161       1       0       0       0       0       0       0       0       0       0 \n",
      "    B0 x F3       0       0       6      78       0       0       0       1       0       0       0       0       0 \n",
      "    B1 x F0       0       0       0       0      24       3       3       0       0       0       0       0       0 \n",
      "    B1 x F1       0       0       0       0       7      90      45       1       0       0       0       0       0 \n",
      "    B1 x F2       0       0       0       0       0       1      81       5       0       0       0       0       0 \n",
      "    B1 x F3       0       0       0       0       0       1       4      42       0       0       0       0       0 \n",
      "    B2 x F0       0       0       0       0       0       0       0       0      21       3       0       0       0 \n",
      "    B2 x F1       0       0       0       0       0       0       0       0       1     107       3       0       0 \n",
      "    B2 x F2       0       0       0       0       0       0       0       0       0       3      44       6       1 \n",
      "    B2 x F3       0       0       0       0       0       0       0       0       0       0       1      38       1 \n",
      "    B2 x F4       0       0       0       0       0       0       0       0       1       0       0      12      26 \n"
     ]
    }
   ],
   "source": [
    "class_cm = confusion_matrix(test['target'].ravel(), class_preds)\n",
    "\n",
    "print(\"Confusion Matrix:\\n\")\n",
    "print_cm(class_cm, sorted(list(set(class_preds))))"
   ]
  },
  {
   "cell_type": "markdown",
   "metadata": {
    "colab_type": "text",
    "id": "WYurVfI7C1Ar"
   },
   "source": [
    "* X-axis: Predicted\n",
    "* Y-axis: Actual\n",
    "\n",
    "To make the results easier to interpret, graphical representation of the **normalised** confusion matrix is shown below."
   ]
  },
  {
   "cell_type": "code",
   "execution_count": 12,
   "metadata": {
    "colab": {},
    "colab_type": "code",
    "id": "aIvjnv8rC1Ar"
   },
   "outputs": [
    {
     "data": {
      "image/png": "[encoded data removed]",
      "text/plain": [
       "<Figure size 648x576 with 2 Axes>"
      ]
     },
     "metadata": {
      "needs_background": "light"
     },
     "output_type": "display_data"
    }
   ],
   "source": [
    "ConfusionMatrix(test['target'].ravel(), class_preds).plot(normalized=True)\n",
    "plt.show()"
   ]
  },
  {
   "cell_type": "markdown",
   "metadata": {
    "colab_type": "text",
    "id": "4Q-AVKJ0C1At"
   },
   "source": [
    "* Most records can be accurately classified to the correct building\n",
    "* The building with lowest overall accuracy is **Building 1** (77.20% accuracy)\n",
    "* The least accurately classified area is **B1 x F1** (62.94% accuracy)"
   ]
  },
  {
   "cell_type": "code",
   "execution_count": 13,
   "metadata": {
    "colab": {},
    "colab_type": "code",
    "id": "nE_q7JEgC1At"
   },
   "outputs": [
    {
     "name": "stdout",
     "output_type": "stream",
     "text": [
      "Correlation coefficient between Accuracy and Average Max Signal Strength: -0.3491\n"
     ]
    }
   ],
   "source": [
    "class_results = pd.concat([test[['BUILDINGID','FLOOR']], pd.DataFrame(data=class_preds,columns=['pred'])],axis=1)\n",
    "class_results['pred'] = class_results['pred'].str.split(' x ')\n",
    "class_results['pred_building'] = class_results['pred'].apply(lambda x: int(re.sub(r'[^0-9^\\-\\.]+', '', x[0])))\n",
    "class_results['pred_floor'] = class_results['pred'].apply(lambda x: int(re.sub(r'[^0-9^\\-\\.]+', '', x[1])))\n",
    "\n",
    "correct_mat = np.zeros((3,5))\n",
    "pred_mat = np.zeros((3,5))\n",
    "for i, row in class_results.iterrows():\n",
    "    correct_mat[row['BUILDINGID'],row['FLOOR']] += 1\n",
    "    pred_mat[row['pred_building'],row['pred_floor']] += 1\n",
    "\n",
    "train[\"max_signal\"] = train.loc[:,[x for x in train.columns if 'WAP' in x]].replace(100,np.NaN).max(axis=1)\n",
    "signal_fb = train[[x for x in train.columns if 'WAP' not in x]].groupby(['BUILDINGID','FLOOR']).max_signal.mean().reset_index().pivot(index='BUILDINGID',columns='FLOOR').fillna(0)\n",
    "sc_corr=np.corrcoef([item for sublist in signal_fb.values.tolist() for item in sublist], [item for sublist in np.nan_to_num(abs(correct_mat-pred_mat)/correct_mat).tolist() for item in sublist])[0,1]\n",
    "print('Correlation coefficient between Accuracy and Average Max Signal Strength: {:.4f}'.format(sc_corr))"
   ]
  },
  {
   "cell_type": "markdown",
   "metadata": {
    "colab_type": "text",
    "id": "9VCA97OlC1Av"
   },
   "source": [
    "There is a moderate negative relationship between Prediction Accuracy and Max Signal Strength - 34.91% of the predicted accuracy by building x floor can be explained by how strong the max signal is."
   ]
  },
  {
   "cell_type": "markdown",
   "metadata": {
    "colab_type": "text",
    "id": "H4GT8ygyC1Av"
   },
   "source": [
    "### Step 3: Model improvements\n",
    "Given the current accuracy, the model can be further improved by hyperparameter tuning."
   ]
  },
  {
   "cell_type": "code",
   "execution_count": 27,
   "metadata": {
    "colab": {},
    "colab_type": "code",
    "id": "snNYO0VzC1Aw"
   },
   "outputs": [
    {
     "name": "stdout",
     "output_type": "stream",
     "text": [
      "Fitting 3 folds for each of 30 candidates, totalling 90 fits\n"
     ]
    },
    {
     "name": "stderr",
     "output_type": "stream",
     "text": [
      "[Parallel(n_jobs=-1)]: Using backend LokyBackend with 4 concurrent workers.\n",
      "[Parallel(n_jobs=-1)]: Done  33 tasks      | elapsed: 291.4min\n",
      "[Parallel(n_jobs=-1)]: Done  90 out of  90 | elapsed: 800.2min finished\n"
     ]
    },
    {
     "data": {
      "text/plain": [
       "RandomizedSearchCV(cv='warn', error_score='raise-deprecating',\n",
       "                   estimator=XGBClassifier(alpha=0, base_score=0.5,\n",
       "                                           booster='gbtree',\n",
       "                                           colsample_bylevel=1,\n",
       "                                           colsample_bynode=1,\n",
       "                                           colsample_bytree=1, gamma=0,\n",
       "                                           lambda=1, learning_rate=0.1,\n",
       "                                           max_delta_step=0, max_depth=5,\n",
       "                                           min_child_weight=1, missing=None,\n",
       "                                           n_estimators=100, n_jobs=-1,\n",
       "                                           nthread=None, num_classes=13,\n",
       "                                           objective='multi...\n",
       "                                        'max_depth': <scipy.stats._distn_infrastructure.rv_frozen object at 0x1218447f0>,\n",
       "                                        'min_child_weight': <scipy.stats._distn_infrastructure.rv_frozen object at 0x121844e80>,\n",
       "                                        'n_estimators': <scipy.stats._distn_infrastructure.rv_frozen object at 0x1218449b0>,\n",
       "                                        'objective': ['multi:softmax',\n",
       "                                                      'multi:softprob']},\n",
       "                   pre_dispatch='2*n_jobs', random_state=20, refit=True,\n",
       "                   return_train_score=False, scoring=None, verbose=2)"
      ]
     },
     "execution_count": 27,
     "metadata": {},
     "output_type": "execute_result"
    }
   ],
   "source": [
    "# Random search to get best hyperparameter grid\n",
    "random_grid = {\n",
    "  \"learning_rate\": sp_uniform(0.05,0.25),\n",
    "  \"max_depth\": sp_randint(3,10),\n",
    "  \"min_child_weight\": sp_randint(1,6),\n",
    "  \"n_estimators\": sp_randint(100,500),\n",
    "  \"gamma\": sp_randint(0,5),\n",
    "  \"objective\": [\"multi:softmax\",\"multi:softprob\"],\n",
    "}\n",
    "## Gridsearch with 3-fold validation\n",
    "class_xg_random = RandomizedSearchCV(estimator=class_xg,param_distributions=random_grid,n_iter=30,verbose=2,random_state=20,n_jobs=-1)\n",
    "## Fit the random search model\n",
    "class_xg_random.fit(train[[x for x in train.columns if 'WAP' in x]], train['target'].ravel())"
   ]
  },
  {
   "cell_type": "code",
   "execution_count": 31,
   "metadata": {},
   "outputs": [
    {
     "data": {
      "text/plain": [
       "{'gamma': 0,\n",
       " 'learning_rate': 0.21164182169390228,\n",
       " 'max_depth': 3,\n",
       " 'min_child_weight': 3,\n",
       " 'n_estimators': 394,\n",
       " 'objective': 'multi:softprob'}"
      ]
     },
     "execution_count": 31,
     "metadata": {},
     "output_type": "execute_result"
    }
   ],
   "source": [
    "best_hp_dict = class_xg_random.best_params_\n",
    "best_hp_dict"
   ]
  },
  {
   "cell_type": "code",
   "execution_count": 28,
   "metadata": {
    "colab": {},
    "colab_type": "code",
    "id": "5GqxalCvC1Ay"
   },
   "outputs": [
    {
     "name": "stdout",
     "output_type": "stream",
     "text": [
      "Base accuracy: 87.67%\n",
      "Best accuracy from Randomized Search: 92.95%\n",
      "Improvement of 6.03%\n"
     ]
    }
   ],
   "source": [
    "## Compare aganst original model\n",
    "base_accuracy = accuracy_score(test['target'].ravel(), class_preds)\n",
    "random_accuracy = class_xg_random.best_score_\n",
    "print('Base accuracy: {:.2f}%'.format(base_accuracy*100))\n",
    "print('Best accuracy from Randomized Search: {:.2f}%'.format(random_accuracy*100))\n",
    "print('Improvement of {:.2f}%'.format(100 * (random_accuracy - base_accuracy) / base_accuracy))"
   ]
  },
  {
   "cell_type": "markdown",
   "metadata": {
    "colab_type": "text",
    "id": "L5mCmdOcC1A1"
   },
   "source": [
    "Using the hyperparameters that produces the highest accuracy, the model is tuned to produce the following results:"
   ]
  },
  {
   "cell_type": "code",
   "execution_count": 30,
   "metadata": {
    "colab": {},
    "colab_type": "code",
    "id": "iOP8gEifKdKN"
   },
   "outputs": [
    {
     "data": {
      "image/png": "[encoded data removed]",
      "text/plain": [
       "<Figure size 648x576 with 2 Axes>"
      ]
     },
     "metadata": {
      "needs_background": "light"
     },
     "output_type": "display_data"
    }
   ],
   "source": [
    "xg_tuned = XGBClassifier(**best_hp_dict,seed=20)\n",
    "xg_tuned.fit(train[[x for x in train.columns if 'WAP' in x]], train['target'].ravel())\n",
    "class_preds_tuned = xg_tuned.predict(test[[x for x in train.columns if 'WAP' in x]])\n",
    "\n",
    "ConfusionMatrix(test['target'].ravel(), class_preds_tuned).plot(normalized=True)\n",
    "plt.show()"
   ]
  },
  {
   "cell_type": "markdown",
   "metadata": {
    "colab_type": "text",
    "id": "qDjIvaStC1A7"
   },
   "source": [
    "### Classification Model Evaluation"
   ]
  },
  {
   "cell_type": "code",
   "execution_count": 32,
   "metadata": {
    "colab": {},
    "colab_type": "code",
    "id": "8Gy41uBEC1A7"
   },
   "outputs": [
    {
     "name": "stdout",
     "output_type": "stream",
     "text": [
      "With original predictions, the percentage of correctly classified BUILDINGS = 99.73%\n",
      "With original predictions, the percentage of correctly classified FLOORS = 87.76%\n",
      "\n",
      "With TUNED predictions, the percentage of correctly classified BUILDINGS = 99.82% (0.09% improvement)\n",
      "With TUNED predictions, the percentage of correctly classified FLOORS = 90.01% (2.56% improvement)\n"
     ]
    }
   ],
   "source": [
    "class_results = pd.concat([test[['target']], \n",
    "                          pd.DataFrame(columns=['Predicted'],\n",
    "                                      data=class_preds),\n",
    "                          pd.DataFrame(columns=['Predicted_Tuned'],\n",
    "                                      data=class_preds_tuned)],axis=1)\n",
    "\n",
    "class_results = class_results.apply(lambda x: x.str.split(' x '))\n",
    "class_results['pred_building'] = class_results.apply(lambda row: row['target'][0] == row['Predicted'][0], axis=1)\n",
    "class_results['pred_floor'] = class_results.apply(lambda row: row['target'][1] == row['Predicted'][1], axis=1)\n",
    "class_results['pred_tuned_building'] = class_results.apply(lambda row: row['target'][0] == row['Predicted_Tuned'][0], axis=1)\n",
    "class_results['pred_tuned_floor'] = class_results.apply(lambda row: row['target'][1] == row['Predicted_Tuned'][1], axis=1)\n",
    "\n",
    "org_bldg = class_results['pred_building'].sum()/len(class_results)\n",
    "org_floor = class_results['pred_floor'].sum()/len(class_results)\n",
    "tuned_bldg = class_results['pred_tuned_building'].sum()/len(class_results)\n",
    "tuned_floor = class_results['pred_tuned_floor'].sum()/len(class_results)\n",
    "print('With original predictions, the percentage of correctly classified BUILDINGS = {:.2f}%'.format(org_bldg*100))\n",
    "print('With original predictions, the percentage of correctly classified FLOORS = {:.2f}%'.format(org_floor*100))\n",
    "print()\n",
    "print('With TUNED predictions, the percentage of correctly classified BUILDINGS = {:.2f}% ({:.2f}% improvement)'.format((tuned_bldg*100),((tuned_bldg-org_bldg)/org_bldg*100)))\n",
    "print('With TUNED predictions, the percentage of correctly classified FLOORS = {:.2f}% ({:.2f}% improvement)'.format((tuned_floor*100),((tuned_floor-org_floor)/org_floor*100)))"
   ]
  },
  {
   "cell_type": "markdown",
   "metadata": {
    "colab_type": "text",
    "id": "r_-TyhjsC1A9"
   },
   "source": [
    "## b) Regression Algorithms\n",
    "\n",
    "### Input variables: WAP001 to WAP520\n",
    "Excluding the 55 WAP variables with no RSSI readings\n",
    "### Target variables: Latitude and Longitude"
   ]
  },
  {
   "cell_type": "markdown",
   "metadata": {
    "colab_type": "text",
    "id": "j8btGpPgC1A-"
   },
   "source": [
    "### Step 1: Algorithm selection\n",
    "\n",
    "* A mixture of linear and non-linear models are selected\n",
    "* Using 5-fold cross validation to evaluate which model has the highest **accuracy**"
   ]
  },
  {
   "cell_type": "code",
   "execution_count": 34,
   "metadata": {
    "colab": {},
    "colab_type": "code",
    "id": "GeEcnK42C1A_"
   },
   "outputs": [
    {
     "name": "stdout",
     "output_type": "stream",
     "text": [
      "Lasso Regression: -1163.5656 (461.3475)\n",
      "\tTime elapsed: 16.56 seconds\n",
      "Ridge Regression: -1717.9341 (1322.7074)\n",
      "\tTime elapsed: 1.34 seconds\n",
      "ElasticNet Regression: -1171.6803 (464.9276)\n",
      "\tTime elapsed: 16.28 seconds\n",
      "K-Nearest Neighbours: -337.7236 (330.0826)\n",
      "\tTime elapsed: 100.56 seconds\n",
      "Random Forest: -297.0394 (189.9074)\n",
      "\tTime elapsed: 15.41 seconds\n",
      "Gradient Boosting: -745.4238 (396.3273)\n",
      "\tTime elapsed: 47.35 seconds\n",
      "XGBoost: -9007.7060 (1790.9760)\n",
      "\tTime elapsed: 120.07 seconds\n",
      "CatBoost: -833.7599 (261.6781)\n",
      "\tTime elapsed: 937.55 seconds\n"
     ]
    }
   ],
   "source": [
    "reg_models = []\n",
    "reg_models.append(('Lasso Regression', Lasso(random_state=20)))\n",
    "reg_models.append(('Ridge Regression', Ridge(random_state=20)))\n",
    "reg_models.append(('ElasticNet Regression', ElasticNet(random_state=20)))\n",
    "reg_models.append(('K-Nearest Neighbours', KNeighborsRegressor()))\n",
    "reg_models.append(('Random Forest', RandomForestRegressor(random_state=20)))\n",
    "reg_models.append(('Gradient Boosting', GradientBoostingRegressor(random_state=20)))\n",
    "reg_models.append(('XGBoost', XGBRegressor(random_state=20)))\n",
    "reg_models.append(('CatBoost', CatBoostRegressor(silent=True,random_seed=20)))\n",
    "\n",
    "\n",
    "# evaluate each model in turn\n",
    "reg_results = []\n",
    "reg_names = []\n",
    "for name, model in reg_models:\n",
    "    st = time.time()\n",
    "    kfold = KFold(n_splits=5, random_state=20)\n",
    "    model = MultiOutputRegressor(model)\n",
    "    cv_results = cross_val_score(model, train[[x for x in train.columns if 'WAP' in x]], train[['LATITUDE','LONGITUDE']].values, cv=kfold, scoring='neg_mean_squared_error',n_jobs=-1)\n",
    "    reg_results.append(cv_results)\n",
    "    reg_names.append(name)\n",
    "    print(\"{}: {:.4f} ({:.4f})\".format(name, cv_results.mean(), cv_results.std()))\n",
    "    print(\"\\tTime elapsed: {:.2f} seconds\".format(time.time()-st))"
   ]
  },
  {
   "cell_type": "code",
   "execution_count": 35,
   "metadata": {
    "colab": {},
    "colab_type": "code",
    "id": "ge9cJ0D8C1BB"
   },
   "outputs": [
    {
     "data": {
      "image/png": "[encoded data removed]",
      "text/plain": [
       "<Figure size 1080x360 with 1 Axes>"
      ]
     },
     "metadata": {
      "needs_background": "light"
     },
     "output_type": "display_data"
    }
   ],
   "source": [
    "# Compare Algorithms\n",
    "fig = plt.figure(figsize=(15,5))\n",
    "fig.suptitle('Algorithm Comparison',fontsize=20)\n",
    "ax = fig.add_subplot(111)\n",
    "plt.boxplot(reg_results)\n",
    "ax.set_xticklabels(reg_names,rotation=40)\n",
    "ax.set_ylim(top=0, bottom=-1200)\n",
    "plt.show()"
   ]
  },
  {
   "cell_type": "markdown",
   "metadata": {
    "colab_type": "text",
    "id": "umhXUCLgC1BD"
   },
   "source": [
    "**K-Nearest Neighbours** produces the lowest negative mean squared error, hence will be the model selected for the classification."
   ]
  },
  {
   "cell_type": "markdown",
   "metadata": {
    "colab_type": "text",
    "id": "zO4DF-p7C1BD"
   },
   "source": [
    "### Step 2: Running model and evaluation of results\n",
    "Algorithm selected: **K-Nearest Neighbours**"
   ]
  },
  {
   "cell_type": "code",
   "execution_count": 36,
   "metadata": {
    "colab": {},
    "colab_type": "code",
    "id": "rAUICdhuC1BE",
    "scrolled": true
   },
   "outputs": [
    {
     "name": "stdout",
     "output_type": "stream",
     "text": [
      "R-squared score: 0.9696\n",
      "Mean Squared Error:\n",
      "\tLatitude: 206.76\n",
      "\tLongitude: 272.66\n"
     ]
    }
   ],
   "source": [
    "reg_knn = MultiOutputRegressor(KNeighborsRegressor())\n",
    "reg_knn.fit(train[[x for x in train.columns if 'WAP' in x]], train[['LATITUDE','LONGITUDE']].values)\n",
    "reg_preds = reg_knn.predict(test[[x for x in train.columns if 'WAP' in x]])\n",
    "\n",
    "rsq = r2_score(test[['LATITUDE','LONGITUDE']].values, reg_preds)\n",
    "print('R-squared score: {:.4f}'.format(rsq))\n",
    "print('Mean Squared Error:')\n",
    "ll_mse = dict(zip(['Latitude', 'Longitude'], mean_squared_error(test[['LATITUDE','LONGITUDE']].values, reg_preds, multioutput='raw_values')))\n",
    "for k, v in ll_mse.items():\n",
    "    print('\\t{}: {:.2f}'.format(k, v))"
   ]
  },
  {
   "cell_type": "markdown",
   "metadata": {
    "colab_type": "text",
    "id": "0vbbwn77C1BH"
   },
   "source": [
    "Although the R-squared score is very close to 1, a more intuitive measure of the results must be calculated to represent accuracy.\n",
    "\n",
    "The distance between the predicted and actual long-lat can be calculated given these assumptions:\n",
    "* Longitude and Latitude are actually Northing and Easting coordinates (respectively)\n",
    "* Given that no UTM Zone is provided, the coordinates are assumed to be on a simple grid\n",
    "* Distance between 2 points is calculated by applying the Pythagoras theorem\n",
    "* Unit of distance = meters (m)"
   ]
  },
  {
   "cell_type": "code",
   "execution_count": 37,
   "metadata": {
    "colab": {},
    "colab_type": "code",
    "id": "Xa2dv5QCC1BH"
   },
   "outputs": [
    {
     "name": "stdout",
     "output_type": "stream",
     "text": [
      "On average, the current model is accurate up to 13.15m radius.\n"
     ]
    }
   ],
   "source": [
    "test_sub = pd.concat([test[['LATITUDE','LONGITUDE', 'BUILDINGID', 'FLOOR']], \n",
    "                     pd.DataFrame(columns=['pred_lat','pred_long'], data = reg_preds)],axis=1)\n",
    "test_sub['dist_error'] = test_sub.apply(lambda row: pythagoras(row['LONGITUDE'], row['pred_long'], row['LATITUDE'], row['pred_lat']),axis=1)\n",
    "\n",
    "org_ar = test_sub['dist_error'].mean()\n",
    "print('On average, the current model is accurate up to {:.2f}m radius.'.format(org_ar))"
   ]
  },
  {
   "cell_type": "code",
   "execution_count": 38,
   "metadata": {
    "colab": {},
    "colab_type": "code",
    "id": "i20wVa23C1By"
   },
   "outputs": [
    {
     "data": {
      "image/png": "[encoded data removed]",
      "text/plain": [
       "<Figure size 432x288 with 1 Axes>"
      ]
     },
     "metadata": {
      "needs_background": "light"
     },
     "output_type": "display_data"
    }
   ],
   "source": [
    "fig = plt.figure()\n",
    "ax1 = fig.add_subplot(111)\n",
    "plt.suptitle('Geographical Distribution of Actual vs. Predicted Records',fontsize=20)\n",
    "ax1.scatter(test_sub['LATITUDE'], test_sub['LONGITUDE'], s=10, c='b', marker=\"s\", label='Actual')\n",
    "ax1.scatter(test_sub['pred_lat'],test_sub['pred_long'], s=10, c='r', marker=\"o\", label='Predicted')\n",
    "plt.xlabel('LATITUDE')\n",
    "plt.ylabel('LONGITUDE')\n",
    "plt.legend(loc='upper right')\n",
    "plt.show()"
   ]
  },
  {
   "cell_type": "markdown",
   "metadata": {
    "colab_type": "text",
    "id": "wwQB_f6uC1Bz"
   },
   "source": [
    "* The bottom-most building has the most accurately predicted locations\n",
    "* In contrast, the top-most building has quite a fair amount of predicted records showing up in the middle area of the building which is empty / not accessible by foot traffic - unable to predict as accurately due to building architecture"
   ]
  },
  {
   "cell_type": "code",
   "execution_count": 41,
   "metadata": {
    "colab": {},
    "colab_type": "code",
    "id": "p2SYsTikC1B0"
   },
   "outputs": [
    {
     "data": {
      "image/png": "[encoded data removed]",
      "text/plain": [
       "<Figure size 1440x360 with 1 Axes>"
      ]
     },
     "metadata": {
      "needs_background": "light"
     },
     "output_type": "display_data"
    }
   ],
   "source": [
    "dist_error = test_sub.groupby(['BUILDINGID', 'FLOOR']).dist_error.mean().reset_index().pivot(index='BUILDINGID',columns='FLOOR').fillna(0)\n",
    "plt.figure(figsize=(20,5))\n",
    "bars = create_clustered_bar(dist_error.values,plt)\n",
    "plt.legend((reversed([x[0] for x in bars])), (4,3,2,1,0),fancybox=True)\n",
    "plt.title('Accuracy Radius',fontsize=20)\n",
    "plt.xticks(dist_error.index)\n",
    "plt.xlabel('Buildings')\n",
    "plt.show()"
   ]
  },
  {
   "cell_type": "markdown",
   "metadata": {
    "colab_type": "text",
    "id": "W3aKEPzeC1B1"
   },
   "source": [
    "Based on the breakdown of accuracy by building & floor, the top-most building in the scatter plot is most likely Building 2, with the highest concentration of inaccuracy from Floor 4 records."
   ]
  },
  {
   "cell_type": "code",
   "execution_count": 42,
   "metadata": {
    "colab": {},
    "colab_type": "code",
    "id": "H_MN5IDdC1B1"
   },
   "outputs": [
    {
     "name": "stdout",
     "output_type": "stream",
     "text": [
      "Correlation coefficient between Accuracy Radius and Average Max Signal Strength: -0.5121\n"
     ]
    }
   ],
   "source": [
    "se_corr=np.corrcoef([item for sublist in signal_fb.values.tolist() for item in sublist], [item for sublist in dist_error.values.tolist() for item in sublist])[0,1]\n",
    "print('Correlation coefficient between Accuracy Radius and Average Max Signal Strength: {:.4f}'.format(se_corr))"
   ]
  },
  {
   "cell_type": "markdown",
   "metadata": {
    "colab_type": "text",
    "id": "C7lZOAcjC1B3"
   },
   "source": [
    "There is a moderate negative relationship between Prediction Accuracy and Max Signal Strength (stronger relationship than from the Classification model) - 51.21% of the predicted accuracy radius by building x floor can be explained by how strong the max signal is."
   ]
  },
  {
   "cell_type": "markdown",
   "metadata": {
    "colab_type": "text",
    "id": "gFSd5ZguC1B3"
   },
   "source": [
    "### Step 3: Model improvements\n",
    "Given the current accuracy radius of 13.15 metres, the current K-Nearest Neighbours model can be further improved by changing the K value."
   ]
  },
  {
   "cell_type": "code",
   "execution_count": 43,
   "metadata": {
    "colab": {},
    "colab_type": "code",
    "id": "yh4nBsSFC1B3"
   },
   "outputs": [
    {
     "data": {
      "image/png": "[encoded data removed]",
      "text/plain": [
       "<Figure size 432x288 with 1 Axes>"
      ]
     },
     "metadata": {
      "needs_background": "light"
     },
     "output_type": "display_data"
    }
   ],
   "source": [
    "k_results = []\n",
    "\n",
    "for k in np.arange(2, 20):\n",
    "    reg_knn_test = MultiOutputRegressor(KNeighborsRegressor(n_neighbors=k))\n",
    "    reg_knn_test.fit(train[[x for x in train.columns if 'WAP' in x]], train[['LATITUDE','LONGITUDE']].values)\n",
    "    reg_preds_test = reg_knn_test.predict(test[[x for x in train.columns if 'WAP' in x]])\n",
    "    temp_df = pd.concat([test_sub[['LATITUDE','LONGITUDE']], \n",
    "                         pd.DataFrame(columns=['pred_lat_tuned','pred_long_tuned'], data = reg_preds_test)],axis=1)\n",
    "    temp_df['dist_error_tuned'] = temp_df.apply(lambda row: pythagoras(row['LONGITUDE'], row['pred_long_tuned'], row['LATITUDE'], row['pred_lat_tuned']),axis=1)\n",
    "    k_results.append(temp_df['dist_error_tuned'].mean())\n",
    "\n",
    "plt.plot(k_results)\n",
    "plt.title('Accuracy Radius over Number of K', fontsize=20)\n",
    "plt.xlabel('Number of K')\n",
    "plt.xticks(range(1,len(k_results)),label=np.arange(2, 20))\n",
    "plt.show()"
   ]
  },
  {
   "cell_type": "markdown",
   "metadata": {
    "colab_type": "text",
    "id": "wIgVGuACC1B5"
   },
   "source": [
    "Given that there are 3 buildings, k = 3 is selected to tune the model and increase the accuracy."
   ]
  },
  {
   "cell_type": "code",
   "execution_count": 44,
   "metadata": {
    "colab": {},
    "colab_type": "code",
    "id": "CkItNgm1C1B5"
   },
   "outputs": [
    {
     "name": "stdout",
     "output_type": "stream",
     "text": [
      "R-squared score: 0.9722\n",
      "Uplift in R-squared score: 0.27%\n",
      "\n",
      "Mean Squared Error:\n",
      "\tLatitude: 194.12\n",
      "\tLongitude: 234.70\n",
      "Uplift in Mean Squared Error:\n",
      "\tLatitude: 6.11%\n",
      "\tLongitude: 13.92%\n"
     ]
    }
   ],
   "source": [
    "reg_knn_tuned = MultiOutputRegressor(KNeighborsRegressor(n_neighbors=3))\n",
    "reg_knn_tuned.fit(train[[x for x in train.columns if 'WAP' in x]], train[['LATITUDE','LONGITUDE']].values)\n",
    "reg_preds_tuned = reg_knn_tuned.predict(test[[x for x in train.columns if 'WAP' in x]])\n",
    "\n",
    "new_rsq = r2_score(test[['LATITUDE','LONGITUDE']].values, reg_preds_tuned)\n",
    "print('R-squared score: {:.4f}'.format(new_rsq))\n",
    "print('Uplift in R-squared score: {:.2f}%'.format((new_rsq-rsq)/rsq*100))\n",
    "print()\n",
    "print('Mean Squared Error:')\n",
    "ll_mse_tuned = dict(zip(['Latitude', 'Longitude'], mean_squared_error(test[['LATITUDE','LONGITUDE']].values, reg_preds_tuned, multioutput='raw_values')))\n",
    "for k, v in ll_mse_tuned.items():\n",
    "    print('\\t{}: {:.2f}'.format(k, v))\n",
    "print('Uplift in Mean Squared Error:')\n",
    "for k, v in ll_mse_tuned.items():\n",
    "    uplift = (ll_mse[k]-v)/ll_mse[k]\n",
    "    print('\\t{}: {:.2f}%'.format(k, (uplift*100)))"
   ]
  },
  {
   "cell_type": "code",
   "execution_count": 45,
   "metadata": {
    "colab": {},
    "colab_type": "code",
    "id": "CIg5_tGnC1B7"
   },
   "outputs": [],
   "source": [
    "test_sub = pd.concat([test_sub[['LATITUDE','LONGITUDE', 'BUILDINGID', 'FLOOR', 'pred_lat', 'pred_long']], \n",
    "                     pd.DataFrame(columns=['pred_lat_tuned','pred_long_tuned'], data = reg_preds_tuned)],axis=1)\n",
    "test_sub['dist_error_tuned'] = test_sub.apply(lambda row: pythagoras(row['LONGITUDE'], row['pred_long_tuned'], row['LATITUDE'], row['pred_lat_tuned']),axis=1)"
   ]
  },
  {
   "cell_type": "code",
   "execution_count": 46,
   "metadata": {
    "colab": {},
    "colab_type": "code",
    "id": "w2bnsDYYC1B9"
   },
   "outputs": [
    {
     "name": "stdout",
     "output_type": "stream",
     "text": [
      "On average, the current model is accurate up to 12.94m radius (1.59% improvement).\n"
     ]
    }
   ],
   "source": [
    "tuned_ar = test_sub['dist_error_tuned'].mean()\n",
    "print('On average, the current model is accurate up to {:.2f}m radius ({:.2f}% improvement).'.format(tuned_ar, ((org_ar-tuned_ar)/org_ar*100)))"
   ]
  },
  {
   "cell_type": "code",
   "execution_count": 47,
   "metadata": {
    "colab": {},
    "colab_type": "code",
    "id": "lAkxuEysC1B-"
   },
   "outputs": [
    {
     "data": {
      "image/png": "[encoded data removed]",
      "text/plain": [
       "<Figure size 432x288 with 1 Axes>"
      ]
     },
     "metadata": {
      "needs_background": "light"
     },
     "output_type": "display_data"
    }
   ],
   "source": [
    "fig = plt.figure()\n",
    "ax1 = fig.add_subplot(111)\n",
    "plt.suptitle('Geographical Distribution of Actual vs. Predicted vs. Tuned Predicted',fontsize=20)\n",
    "ax1.scatter(test_sub['LATITUDE'], test_sub['LONGITUDE'], s=10, c='b', marker=\"s\", label='Actual')\n",
    "ax1.scatter(test_sub['pred_lat'],test_sub['pred_long'], s=10, c='r', marker=\"o\", label='Predicted')\n",
    "ax1.scatter(test_sub['pred_lat_tuned'],test_sub['pred_long_tuned'], s=10, c='g', marker=\"^\", label='Tuned Predicted')\n",
    "plt.xlabel('LATITUDE')\n",
    "plt.ylabel('LONGITUDE')\n",
    "plt.legend(loc='upper right')\n",
    "plt.show()"
   ]
  },
  {
   "cell_type": "markdown",
   "metadata": {
    "colab_type": "text",
    "id": "LH9KTHEBC1CA"
   },
   "source": [
    "A visual comparison shows that Building 2's inaccuracy is reduced, with less predicted values within the empty space in the middle of the building."
   ]
  },
  {
   "cell_type": "code",
   "execution_count": 48,
   "metadata": {
    "colab": {},
    "colab_type": "code",
    "id": "FTWPsrZiC1CB"
   },
   "outputs": [
    {
     "data": {
      "image/png": "[encoded data removed]",
      "text/plain": [
       "<Figure size 1440x360 with 1 Axes>"
      ]
     },
     "metadata": {
      "needs_background": "light"
     },
     "output_type": "display_data"
    }
   ],
   "source": [
    "dist_error_tuned = test_sub.groupby(['BUILDINGID', 'FLOOR']).dist_error_tuned.mean().reset_index().pivot(index='BUILDINGID',columns='FLOOR').fillna(0)\n",
    "plt.figure(figsize=(20,5))\n",
    "bars = create_clustered_bar(dist_error_tuned.values,plt)\n",
    "plt.legend((reversed([x[0] for x in bars])), (4,3,2,1,0),fancybox=True)\n",
    "plt.title('Accuracy Radius',fontsize=20)\n",
    "plt.xticks(dist_error_tuned.index)\n",
    "plt.xlabel('Buildings')\n",
    "plt.show()"
   ]
  },
  {
   "cell_type": "code",
   "execution_count": 49,
   "metadata": {
    "colab": {},
    "colab_type": "code",
    "id": "p9dL9esLC1CD"
   },
   "outputs": [
    {
     "name": "stdout",
     "output_type": "stream",
     "text": [
      "Uplift in Accuracy Radius by Building & Floor:\n"
     ]
    },
    {
     "data": {
      "text/html": [
       "<div>\n",
       "<style scoped>\n",
       "    .dataframe tbody tr th:only-of-type {\n",
       "        vertical-align: middle;\n",
       "    }\n",
       "\n",
       "    .dataframe tbody tr th {\n",
       "        vertical-align: top;\n",
       "    }\n",
       "\n",
       "    .dataframe thead th {\n",
       "        text-align: right;\n",
       "    }\n",
       "</style>\n",
       "<table border=\"1\" class=\"dataframe\">\n",
       "  <thead>\n",
       "    <tr style=\"text-align: right;\">\n",
       "      <th>BUILDINGID</th>\n",
       "      <th>0</th>\n",
       "      <th>1</th>\n",
       "      <th>2</th>\n",
       "    </tr>\n",
       "    <tr>\n",
       "      <th>FLOOR</th>\n",
       "      <th></th>\n",
       "      <th></th>\n",
       "      <th></th>\n",
       "    </tr>\n",
       "  </thead>\n",
       "  <tbody>\n",
       "    <tr>\n",
       "      <th>4</th>\n",
       "      <td>0.00%</td>\n",
       "      <td>0.00%</td>\n",
       "      <td>9.38%</td>\n",
       "    </tr>\n",
       "    <tr>\n",
       "      <th>3</th>\n",
       "      <td>-4.36%</td>\n",
       "      <td>-5.45%</td>\n",
       "      <td>21.97%</td>\n",
       "    </tr>\n",
       "    <tr>\n",
       "      <th>2</th>\n",
       "      <td>-0.84%</td>\n",
       "      <td>-1.02%</td>\n",
       "      <td>-1.45%</td>\n",
       "    </tr>\n",
       "    <tr>\n",
       "      <th>1</th>\n",
       "      <td>-2.68%</td>\n",
       "      <td>0.07%</td>\n",
       "      <td>4.47%</td>\n",
       "    </tr>\n",
       "    <tr>\n",
       "      <th>0</th>\n",
       "      <td>1.69%</td>\n",
       "      <td>-5.84%</td>\n",
       "      <td>2.67%</td>\n",
       "    </tr>\n",
       "  </tbody>\n",
       "</table>\n",
       "</div>"
      ],
      "text/plain": [
       "BUILDINGID       0       1       2\n",
       "FLOOR                             \n",
       "4            0.00%   0.00%   9.38%\n",
       "3           -4.36%  -5.45%  21.97%\n",
       "2           -0.84%  -1.02%  -1.45%\n",
       "1           -2.68%   0.07%   4.47%\n",
       "0            1.69%  -5.84%   2.67%"
      ]
     },
     "execution_count": 49,
     "metadata": {},
     "output_type": "execute_result"
    }
   ],
   "source": [
    "org_mat = dist_error.as_matrix()\n",
    "tuned_mat = dist_error_tuned.as_matrix()\n",
    "\n",
    "fb_uplift = pd.DataFrame(index=dist_error.columns.droplevel(),\n",
    "                         columns=dist_error.index,\n",
    "                         data=((org_mat-tuned_mat)/org_mat).T).fillna(0)\n",
    "for col in fb_uplift.columns:\n",
    "    fb_uplift[col] = fb_uplift[col].apply(lambda x: \"{:.2f}%\".format(x*100))\n",
    "\n",
    "print('Uplift in Accuracy Radius by Building & Floor:')\n",
    "fb_uplift.sort_index(ascending=False)"
   ]
  },
  {
   "cell_type": "markdown",
   "metadata": {
    "colab_type": "text",
    "id": "XiaGl1YXC1CE"
   },
   "source": [
    "* Floor 3 of Building 1 is most negatively affected by the change in K values in model tuning\n",
    "* Building 1 is generally negatively impacted across all levels (except Floor 1)\n",
    "* Building 2 most positive changes across all levels (except Floor 2)\n",
    "* Building 2 main improvement in Floor 3"
   ]
  },
  {
   "cell_type": "markdown",
   "metadata": {
    "colab_type": "text",
    "id": "6bD3ihBsC1CE"
   },
   "source": [
    "## Overall Modelling Results"
   ]
  },
  {
   "cell_type": "code",
   "execution_count": 51,
   "metadata": {
    "colab": {},
    "colab_type": "code",
    "id": "OXdySjr0_TXB"
   },
   "outputs": [
    {
     "name": "stdout",
     "output_type": "stream",
     "text": [
      "Building: 99.82% accuracy\n",
      "Floor: 90.01% accuracy\n",
      "Position based on Latitude + Longitude: 12.94m radius\n"
     ]
    }
   ],
   "source": [
    "print(\"Building: {:.2f}% accuracy\".format(tuned_bldg*100))\n",
    "print(\"Floor: {:.2f}% accuracy\".format(tuned_floor*100))\n",
    "print(\"Position based on Latitude + Longitude: {:.2f}m radius\".format(tuned_ar))"
   ]
  },
  {
   "cell_type": "markdown",
   "metadata": {
    "colab_type": "text",
    "id": "_YB_tPXeC1CF"
   },
   "source": [
    "## Areas for Improvement\n",
    "* Increase accuracy of predicted floor\n",
    "* Reduce accuracy radius\n",
    "* Add other dimensions into models e.g. examine effect of time of day / day of week on predictions"
   ]
  }
 ],
 "metadata": {
  "accelerator": "GPU",
  "colab": {
   "collapsed_sections": [],
   "name": "Modelling.ipynb",
   "provenance": [],
   "toc_visible": true,
   "version": "0.3.2"
  },
  "kernelspec": {
   "display_name": "personal-github",
   "language": "python",
   "name": "personal-github"
  },
  "language_info": {
   "codemirror_mode": {
    "name": "ipython",
    "version": 3
   },
   "file_extension": ".py",
   "mimetype": "text/x-python",
   "name": "python",
   "nbconvert_exporter": "python",
   "pygments_lexer": "ipython3",
   "version": "3.7.4"
  },
  "varInspector": {
   "cols": {
    "lenName": 16,
    "lenType": 16,
    "lenVar": 40
   },
   "kernels_config": {
    "python": {
     "delete_cmd_postfix": "",
     "delete_cmd_prefix": "del ",
     "library": "var_list.py",
     "varRefreshCmd": "print(var_dic_list())"
    },
    "r": {
     "delete_cmd_postfix": ") ",
     "delete_cmd_prefix": "rm(",
     "library": "var_list.r",
     "varRefreshCmd": "cat(var_dic_list()) "
    }
   },
   "position": {
    "height": "408px",
    "left": "1008px",
    "right": "20px",
    "top": "169px",
    "width": "487px"
   },
   "types_to_exclude": [
    "module",
    "function",
    "builtin_function_or_method",
    "instance",
    "_Feature"
   ],
   "window_display": false
  }
 },
 "nbformat": 4,
 "nbformat_minor": 1
}
