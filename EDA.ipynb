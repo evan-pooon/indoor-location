{
 "cells": [
  {
   "cell_type": "code",
   "execution_count": 1,
   "metadata": {
    "colab": {},
    "colab_type": "code",
    "id": "cyUUssu7C0_t",
    "outputId": "0cc6cd9f-194b-4b5e-a8f9-45b94e33830e"
   },
   "outputs": [
    {
     "data": {
      "text/html": [
       "<script>\n",
       "code_show=true; \n",
       "function code_toggle() {\n",
       " if (code_show){\n",
       " $('div.input').hide();\n",
       " } else {\n",
       " $('div.input').show();\n",
       " }\n",
       " code_show = !code_show\n",
       "} \n",
       "$( document ).ready(code_toggle);\n",
       "</script>\n",
       "The raw code for this IPython notebook is by default hidden for easier reading.\n",
       "To toggle on/off the raw code, click <a href=\"javascript:code_toggle()\">here</a>."
      ],
      "text/plain": [
       "<IPython.core.display.HTML object>"
      ]
     },
     "execution_count": 1,
     "metadata": {},
     "output_type": "execute_result"
    }
   ],
   "source": [
    "from IPython.display import HTML\n",
    "\n",
    "HTML('''<script>\n",
    "code_show=true; \n",
    "function code_toggle() {\n",
    " if (code_show){\n",
    " $('div.input').hide();\n",
    " } else {\n",
    " $('div.input').show();\n",
    " }\n",
    " code_show = !code_show\n",
    "} \n",
    "$( document ).ready(code_toggle);\n",
    "</script>\n",
    "The raw code for this IPython notebook is by default hidden for easier reading.\n",
    "To toggle on/off the raw code, click <a href=\"javascript:code_toggle()\">here</a>.''')"
   ]
  },
  {
   "cell_type": "markdown",
   "metadata": {
    "colab_type": "text",
    "id": "LQHb5aFMC0_w"
   },
   "source": [
    "# Exploratory Data Analysis"
   ]
  },
  {
   "cell_type": "code",
   "execution_count": 2,
   "metadata": {
    "colab": {},
    "colab_type": "code",
    "id": "Z_OqOo7XC0_x"
   },
   "outputs": [],
   "source": [
    "# Data reading and processing\n",
    "import re\n",
    "import pandas as pd\n",
    "import numpy as np\n",
    "import warnings\n",
    "from scipy.stats import randint as sp_randint\n",
    "from datetime import datetime\n",
    "\n",
    "import os\n",
    "from os import path\n",
    "\n",
    "# Visualisation\n",
    "from matplotlib import pyplot as plt\n",
    "\n",
    "# Suppress warnings\n",
    "warnings.filterwarnings(\"ignore\")"
   ]
  },
  {
   "cell_type": "code",
   "execution_count": 3,
   "metadata": {
    "colab": {},
    "colab_type": "code",
    "id": "KV3x9mmqC0_z"
   },
   "outputs": [],
   "source": [
    "# Setting current directory as same directory where code is stored\n",
    "try:\n",
    "    CUR_DIR = dirname(realpath(__file__))\n",
    "except NameError:\n",
    "    CUR_DIR = os.getcwd()"
   ]
  },
  {
   "cell_type": "code",
   "execution_count": 4,
   "metadata": {
    "colab": {},
    "colab_type": "code",
    "id": "jrgHNsAMC0_0"
   },
   "outputs": [],
   "source": [
    "# Additional functions\n",
    "## Creating charts\n",
    "def create_stacked_bar(matrix, axis):\n",
    "    bar_renderers = []\n",
    "    ind = np.arange(matrix.shape[1])\n",
    "    bottoms = np.cumsum(np.vstack((np.zeros(matrix.shape[1]), matrix)), axis=0)[:-1]\n",
    "    for i, row in enumerate(matrix):\n",
    "        r = axis.bar(ind, row, width=0.5, bottom=bottoms[i])\n",
    "        bar_renderers.append(r)\n",
    "    return bar_renderers\n",
    "\n",
    "def create_clustered_bar(matrix, axis):\n",
    "    bar_renderers = []\n",
    "    x = np.arange(matrix.shape[0])\n",
    "    dx = (np.arange(matrix.shape[1])-matrix.shape[1]/2.)/(matrix.shape[1]+2.)\n",
    "    d = 1./(matrix.shape[1]+2.)\n",
    "\n",
    "    for i in range(matrix.shape[1]):\n",
    "        r = axis.bar(x+dx[i],matrix[:,i], width=d)\n",
    "        bar_renderers.append(r)\n",
    "    return bar_renderers\n",
    "\n",
    "def format_subplot(axis, title, x_label, x_ticks=None):\n",
    "    axis.set_title(title,fontsize=20)\n",
    "    axis.set_xlabel(x_label)\n",
    "    if x_ticks is not None:\n",
    "        axis.set_xticks(x_ticks)\n",
    "    return\n",
    "\n",
    "## Print confusion matrix\n",
    "def print_cm(cm, labels, hide_zeroes=False, hide_diagonal=False, hide_threshold=None):\n",
    "    columnwidth = max([len(x) for x in labels] + [5])  # 5 is value length\n",
    "    empty_cell = \" \" * columnwidth\n",
    "    # Print header\n",
    "    print(\"    \" + empty_cell, end=\" \")\n",
    "    for label in labels:\n",
    "        print(\"%{0}s\".format(columnwidth) % label, end=\" \")\n",
    "    print()\n",
    "    # Print rows\n",
    "    for i, label1 in enumerate(labels):\n",
    "        print(\"    %{0}s\".format(columnwidth) % label1, end=\" \")\n",
    "        for j in range(len(labels)):\n",
    "            cell = \"%{0}.i\".format(columnwidth) % cm[i, j]\n",
    "            if hide_zeroes:\n",
    "                cell = cell if float(cm[i, j]) != 0 else empty_cell\n",
    "            if hide_diagonal:\n",
    "                cell = cell if i != j else empty_cell\n",
    "            if hide_threshold:\n",
    "                cell = cell if cm[i, j] > hide_threshold else empty_cell\n",
    "            print(cell, end=\" \")\n",
    "        print()"
   ]
  },
  {
   "cell_type": "markdown",
   "metadata": {
    "colab_type": "text",
    "id": "ijTm-hbHC0_2"
   },
   "source": [
    "## Reading in data and brief stats"
   ]
  },
  {
   "cell_type": "code",
   "execution_count": 25,
   "metadata": {
    "colab": {},
    "colab_type": "code",
    "id": "PRh9G1iZC0_4"
   },
   "outputs": [
    {
     "name": "stdout",
     "output_type": "stream",
     "text": [
      "Training dataset (length, width) = (19937, 529)\n",
      "Validation dataset (length, width) = (1111, 529)\n"
     ]
    }
   ],
   "source": [
    "# Import data files\n",
    "train = pd.DataFrame.from_csv(path.join(CUR_DIR, \"input\", 'trainingData.csv'),index_col=None)\n",
    "test = pd.DataFrame.from_csv(path.join(CUR_DIR, \"input\", 'validationData.csv'),index_col=None)\n",
    "\n",
    "print('Training dataset (length, width) = %s' % str(train.shape))\n",
    "print('Validation dataset (length, width) = %s' % str(test.shape))\n",
    "\n",
    "# Import mapping files\n",
    "map_user = pd.DataFrame.from_csv(path.join(CUR_DIR, \"input\", 'userMap.csv'),index_col=None)\n",
    "map_phone = pd.DataFrame.from_csv(path.join(CUR_DIR, \"input\", 'phoneMap.csv'),index_col=None)"
   ]
  },
  {
   "cell_type": "markdown",
   "metadata": {
    "colab_type": "text",
    "id": "dJjVlmcjC0_6"
   },
   "source": [
    "### Viewing data sample (non-WAP columns) and statistical summary"
   ]
  },
  {
   "cell_type": "code",
   "execution_count": 7,
   "metadata": {
    "colab": {},
    "colab_type": "code",
    "id": "AR8xub1EC0_6",
    "outputId": "49992a67-e451-4605-e0e1-8acb11c9c53b"
   },
   "outputs": [
    {
     "data": {
      "text/html": [
       "<div>\n",
       "<style scoped>\n",
       "    .dataframe tbody tr th:only-of-type {\n",
       "        vertical-align: middle;\n",
       "    }\n",
       "\n",
       "    .dataframe tbody tr th {\n",
       "        vertical-align: top;\n",
       "    }\n",
       "\n",
       "    .dataframe thead th {\n",
       "        text-align: right;\n",
       "    }\n",
       "</style>\n",
       "<table border=\"1\" class=\"dataframe\">\n",
       "  <thead>\n",
       "    <tr style=\"text-align: right;\">\n",
       "      <th></th>\n",
       "      <th>LONGITUDE</th>\n",
       "      <th>LATITUDE</th>\n",
       "      <th>FLOOR</th>\n",
       "      <th>BUILDINGID</th>\n",
       "      <th>SPACEID</th>\n",
       "      <th>RELATIVEPOSITION</th>\n",
       "      <th>USERID</th>\n",
       "      <th>PHONEID</th>\n",
       "      <th>TIMESTAMP</th>\n",
       "    </tr>\n",
       "  </thead>\n",
       "  <tbody>\n",
       "    <tr>\n",
       "      <th>0</th>\n",
       "      <td>-7541.2643</td>\n",
       "      <td>4.864921e+06</td>\n",
       "      <td>2</td>\n",
       "      <td>1</td>\n",
       "      <td>106</td>\n",
       "      <td>2</td>\n",
       "      <td>2</td>\n",
       "      <td>23</td>\n",
       "      <td>1371713733</td>\n",
       "    </tr>\n",
       "    <tr>\n",
       "      <th>1</th>\n",
       "      <td>-7536.6212</td>\n",
       "      <td>4.864934e+06</td>\n",
       "      <td>2</td>\n",
       "      <td>1</td>\n",
       "      <td>106</td>\n",
       "      <td>2</td>\n",
       "      <td>2</td>\n",
       "      <td>23</td>\n",
       "      <td>1371713691</td>\n",
       "    </tr>\n",
       "    <tr>\n",
       "      <th>2</th>\n",
       "      <td>-7519.1524</td>\n",
       "      <td>4.864950e+06</td>\n",
       "      <td>2</td>\n",
       "      <td>1</td>\n",
       "      <td>103</td>\n",
       "      <td>2</td>\n",
       "      <td>2</td>\n",
       "      <td>23</td>\n",
       "      <td>1371714095</td>\n",
       "    </tr>\n",
       "    <tr>\n",
       "      <th>3</th>\n",
       "      <td>-7524.5704</td>\n",
       "      <td>4.864934e+06</td>\n",
       "      <td>2</td>\n",
       "      <td>1</td>\n",
       "      <td>102</td>\n",
       "      <td>2</td>\n",
       "      <td>2</td>\n",
       "      <td>23</td>\n",
       "      <td>1371713807</td>\n",
       "    </tr>\n",
       "    <tr>\n",
       "      <th>4</th>\n",
       "      <td>-7632.1436</td>\n",
       "      <td>4.864982e+06</td>\n",
       "      <td>0</td>\n",
       "      <td>0</td>\n",
       "      <td>122</td>\n",
       "      <td>2</td>\n",
       "      <td>11</td>\n",
       "      <td>13</td>\n",
       "      <td>1369909710</td>\n",
       "    </tr>\n",
       "  </tbody>\n",
       "</table>\n",
       "</div>"
      ],
      "text/plain": [
       "   LONGITUDE      LATITUDE  FLOOR  BUILDINGID  SPACEID  RELATIVEPOSITION  \\\n",
       "0 -7541.2643  4.864921e+06      2           1      106                 2   \n",
       "1 -7536.6212  4.864934e+06      2           1      106                 2   \n",
       "2 -7519.1524  4.864950e+06      2           1      103                 2   \n",
       "3 -7524.5704  4.864934e+06      2           1      102                 2   \n",
       "4 -7632.1436  4.864982e+06      0           0      122                 2   \n",
       "\n",
       "   USERID  PHONEID   TIMESTAMP  \n",
       "0       2       23  1371713733  \n",
       "1       2       23  1371713691  \n",
       "2       2       23  1371714095  \n",
       "3       2       23  1371713807  \n",
       "4      11       13  1369909710  "
      ]
     },
     "execution_count": 7,
     "metadata": {},
     "output_type": "execute_result"
    }
   ],
   "source": [
    "train[[x for x in train.columns if 'WAP' not in x]].head()"
   ]
  },
  {
   "cell_type": "code",
   "execution_count": 8,
   "metadata": {
    "colab": {},
    "colab_type": "code",
    "id": "7ERiYljTC0_8",
    "outputId": "e0019392-6eff-480d-c0c4-06e7a752f775"
   },
   "outputs": [
    {
     "data": {
      "text/html": [
       "<div>\n",
       "<style scoped>\n",
       "    .dataframe tbody tr th:only-of-type {\n",
       "        vertical-align: middle;\n",
       "    }\n",
       "\n",
       "    .dataframe tbody tr th {\n",
       "        vertical-align: top;\n",
       "    }\n",
       "\n",
       "    .dataframe thead th {\n",
       "        text-align: right;\n",
       "    }\n",
       "</style>\n",
       "<table border=\"1\" class=\"dataframe\">\n",
       "  <thead>\n",
       "    <tr style=\"text-align: right;\">\n",
       "      <th></th>\n",
       "      <th>LONGITUDE</th>\n",
       "      <th>LATITUDE</th>\n",
       "      <th>FLOOR</th>\n",
       "      <th>BUILDINGID</th>\n",
       "      <th>SPACEID</th>\n",
       "      <th>RELATIVEPOSITION</th>\n",
       "      <th>USERID</th>\n",
       "      <th>PHONEID</th>\n",
       "      <th>TIMESTAMP</th>\n",
       "    </tr>\n",
       "  </thead>\n",
       "  <tbody>\n",
       "    <tr>\n",
       "      <th>count</th>\n",
       "      <td>19937.000000</td>\n",
       "      <td>1.993700e+04</td>\n",
       "      <td>19937.000000</td>\n",
       "      <td>19937.000000</td>\n",
       "      <td>19937.000000</td>\n",
       "      <td>19937.000000</td>\n",
       "      <td>19937.000000</td>\n",
       "      <td>19937.000000</td>\n",
       "      <td>1.993700e+04</td>\n",
       "    </tr>\n",
       "    <tr>\n",
       "      <th>mean</th>\n",
       "      <td>-7464.275947</td>\n",
       "      <td>4.864871e+06</td>\n",
       "      <td>1.674575</td>\n",
       "      <td>1.212820</td>\n",
       "      <td>148.429954</td>\n",
       "      <td>1.833024</td>\n",
       "      <td>9.068014</td>\n",
       "      <td>13.021869</td>\n",
       "      <td>1.371421e+09</td>\n",
       "    </tr>\n",
       "    <tr>\n",
       "      <th>std</th>\n",
       "      <td>123.402010</td>\n",
       "      <td>6.693318e+01</td>\n",
       "      <td>1.223078</td>\n",
       "      <td>0.833139</td>\n",
       "      <td>58.342106</td>\n",
       "      <td>0.372964</td>\n",
       "      <td>4.988720</td>\n",
       "      <td>5.362410</td>\n",
       "      <td>5.572054e+05</td>\n",
       "    </tr>\n",
       "    <tr>\n",
       "      <th>min</th>\n",
       "      <td>-7691.338400</td>\n",
       "      <td>4.864746e+06</td>\n",
       "      <td>0.000000</td>\n",
       "      <td>0.000000</td>\n",
       "      <td>1.000000</td>\n",
       "      <td>1.000000</td>\n",
       "      <td>1.000000</td>\n",
       "      <td>1.000000</td>\n",
       "      <td>1.369909e+09</td>\n",
       "    </tr>\n",
       "    <tr>\n",
       "      <th>25%</th>\n",
       "      <td>-7594.737000</td>\n",
       "      <td>4.864821e+06</td>\n",
       "      <td>1.000000</td>\n",
       "      <td>0.000000</td>\n",
       "      <td>110.000000</td>\n",
       "      <td>2.000000</td>\n",
       "      <td>5.000000</td>\n",
       "      <td>8.000000</td>\n",
       "      <td>1.371056e+09</td>\n",
       "    </tr>\n",
       "    <tr>\n",
       "      <th>50%</th>\n",
       "      <td>-7423.060900</td>\n",
       "      <td>4.864852e+06</td>\n",
       "      <td>2.000000</td>\n",
       "      <td>1.000000</td>\n",
       "      <td>129.000000</td>\n",
       "      <td>2.000000</td>\n",
       "      <td>11.000000</td>\n",
       "      <td>13.000000</td>\n",
       "      <td>1.371716e+09</td>\n",
       "    </tr>\n",
       "    <tr>\n",
       "      <th>75%</th>\n",
       "      <td>-7359.193000</td>\n",
       "      <td>4.864930e+06</td>\n",
       "      <td>3.000000</td>\n",
       "      <td>2.000000</td>\n",
       "      <td>207.000000</td>\n",
       "      <td>2.000000</td>\n",
       "      <td>13.000000</td>\n",
       "      <td>14.000000</td>\n",
       "      <td>1.371721e+09</td>\n",
       "    </tr>\n",
       "    <tr>\n",
       "      <th>max</th>\n",
       "      <td>-7300.818990</td>\n",
       "      <td>4.865017e+06</td>\n",
       "      <td>4.000000</td>\n",
       "      <td>2.000000</td>\n",
       "      <td>254.000000</td>\n",
       "      <td>2.000000</td>\n",
       "      <td>18.000000</td>\n",
       "      <td>24.000000</td>\n",
       "      <td>1.371738e+09</td>\n",
       "    </tr>\n",
       "  </tbody>\n",
       "</table>\n",
       "</div>"
      ],
      "text/plain": [
       "          LONGITUDE      LATITUDE         FLOOR    BUILDINGID       SPACEID  \\\n",
       "count  19937.000000  1.993700e+04  19937.000000  19937.000000  19937.000000   \n",
       "mean   -7464.275947  4.864871e+06      1.674575      1.212820    148.429954   \n",
       "std      123.402010  6.693318e+01      1.223078      0.833139     58.342106   \n",
       "min    -7691.338400  4.864746e+06      0.000000      0.000000      1.000000   \n",
       "25%    -7594.737000  4.864821e+06      1.000000      0.000000    110.000000   \n",
       "50%    -7423.060900  4.864852e+06      2.000000      1.000000    129.000000   \n",
       "75%    -7359.193000  4.864930e+06      3.000000      2.000000    207.000000   \n",
       "max    -7300.818990  4.865017e+06      4.000000      2.000000    254.000000   \n",
       "\n",
       "       RELATIVEPOSITION        USERID       PHONEID     TIMESTAMP  \n",
       "count      19937.000000  19937.000000  19937.000000  1.993700e+04  \n",
       "mean           1.833024      9.068014     13.021869  1.371421e+09  \n",
       "std            0.372964      4.988720      5.362410  5.572054e+05  \n",
       "min            1.000000      1.000000      1.000000  1.369909e+09  \n",
       "25%            2.000000      5.000000      8.000000  1.371056e+09  \n",
       "50%            2.000000     11.000000     13.000000  1.371716e+09  \n",
       "75%            2.000000     13.000000     14.000000  1.371721e+09  \n",
       "max            2.000000     18.000000     24.000000  1.371738e+09  "
      ]
     },
     "execution_count": 8,
     "metadata": {},
     "output_type": "execute_result"
    }
   ],
   "source": [
    "train[[x for x in train.columns if 'WAP' not in x]].describe()"
   ]
  },
  {
   "cell_type": "markdown",
   "metadata": {
    "colab_type": "text",
    "id": "JY5MkldzC0_9"
   },
   "source": [
    "## EDA on *Target Variables*\n",
    "* Understand distribution of data better\n",
    "* Validate that the target variables are varied enough to get a robust output from modelling\n",
    "* If necessary, filtering of records"
   ]
  },
  {
   "cell_type": "markdown",
   "metadata": {
    "colab_type": "text",
    "id": "jEfxcAW4C0_-"
   },
   "source": [
    "### Distribution of records by user"
   ]
  },
  {
   "cell_type": "code",
   "execution_count": 9,
   "metadata": {
    "colab": {},
    "colab_type": "code",
    "id": "eWEk3P-aC0_-",
    "outputId": "39d2ad9a-5612-4b51-e74b-53bfa274a7e0"
   },
   "outputs": [
    {
     "data": {
      "image/png": "[encoded data removed]",
      "text/plain": [
       "<Figure size 1080x360 with 1 Axes>"
      ]
     },
     "metadata": {
      "needs_background": "light"
     },
     "output_type": "display_data"
    }
   ],
   "source": [
    "user_counts = train.groupby(['USERID']).TIMESTAMP.count().reset_index()\n",
    "plt.figure(figsize=(15,5))\n",
    "plt.bar(user_counts['USERID'],height=user_counts['TIMESTAMP'])\n",
    "plt.xticks(user_counts['USERID'])\n",
    "plt.title('Number of Records per User',fontsize=20)\n",
    "plt.xlabel('USERID')\n",
    "plt.ylabel('Number of records')\n",
    "plt.show()"
   ]
  },
  {
   "cell_type": "markdown",
   "metadata": {
    "colab_type": "text",
    "id": "ezvXyBWrC1AA"
   },
   "source": [
    "User 11 has the highest amount of activity recorded, more than 25% than the 2nd most active user (User 1)."
   ]
  },
  {
   "cell_type": "markdown",
   "metadata": {
    "colab_type": "text",
    "id": "309xwk1WC1AA"
   },
   "source": [
    "### Number of records by longitude and latitude"
   ]
  },
  {
   "cell_type": "code",
   "execution_count": 10,
   "metadata": {
    "colab": {},
    "colab_type": "code",
    "id": "ryS7iYCIC1AB",
    "outputId": "0e965857-616a-4535-b840-f09c6c4e9070"
   },
   "outputs": [
    {
     "data": {
      "image/png": "[encoded data removed]",
      "text/plain": [
       "<Figure size 432x432 with 1 Axes>"
      ]
     },
     "metadata": {
      "needs_background": "light"
     },
     "output_type": "display_data"
    }
   ],
   "source": [
    "plt.figure(figsize=(6,6))\n",
    "plt.scatter(train['LATITUDE'],train['LONGITUDE'])\n",
    "plt.title(\"Geographical Distribution of Records\",fontsize=20)\n",
    "plt.xlabel('LATITUDE')\n",
    "plt.ylabel('LONGITUDE')\n",
    "plt.show()"
   ]
  },
  {
   "cell_type": "markdown",
   "metadata": {
    "colab_type": "text",
    "id": "aUqh3t9lC1AC"
   },
   "source": [
    "External shape of buildings can be seen from plotting longitude and latitude."
   ]
  },
  {
   "cell_type": "markdown",
   "metadata": {
    "colab_type": "text",
    "id": "qzrUuXmRC1AF"
   },
   "source": [
    "### Number of records by building & floor"
   ]
  },
  {
   "cell_type": "code",
   "execution_count": 11,
   "metadata": {
    "colab": {},
    "colab_type": "code",
    "id": "wLbmlJSRC1AF",
    "outputId": "4544fe09-c49c-474c-e2f1-af22c479d17a"
   },
   "outputs": [
    {
     "data": {
      "text/html": [
       "<div>\n",
       "<style scoped>\n",
       "    .dataframe tbody tr th:only-of-type {\n",
       "        vertical-align: middle;\n",
       "    }\n",
       "\n",
       "    .dataframe tbody tr th {\n",
       "        vertical-align: top;\n",
       "    }\n",
       "\n",
       "    .dataframe thead th {\n",
       "        text-align: right;\n",
       "    }\n",
       "</style>\n",
       "<table border=\"1\" class=\"dataframe\">\n",
       "  <thead>\n",
       "    <tr style=\"text-align: right;\">\n",
       "      <th></th>\n",
       "      <th>BUILDINGID</th>\n",
       "      <th>RECORDS</th>\n",
       "    </tr>\n",
       "  </thead>\n",
       "  <tbody>\n",
       "    <tr>\n",
       "      <th>0</th>\n",
       "      <td>0</td>\n",
       "      <td>5249</td>\n",
       "    </tr>\n",
       "    <tr>\n",
       "      <th>1</th>\n",
       "      <td>1</td>\n",
       "      <td>5196</td>\n",
       "    </tr>\n",
       "    <tr>\n",
       "      <th>2</th>\n",
       "      <td>2</td>\n",
       "      <td>9492</td>\n",
       "    </tr>\n",
       "  </tbody>\n",
       "</table>\n",
       "</div>"
      ],
      "text/plain": [
       "   BUILDINGID  RECORDS\n",
       "0           0     5249\n",
       "1           1     5196\n",
       "2           2     9492"
      ]
     },
     "execution_count": 11,
     "metadata": {},
     "output_type": "execute_result"
    }
   ],
   "source": [
    "fb_counts = train.groupby(['FLOOR','BUILDINGID']).TIMESTAMP.count().reset_index()\n",
    "# Inserting dummy rows for missing floor x building combinations\n",
    "for f in np.arange(0,5):\n",
    "    for b in np.arange(0,3):\n",
    "        if not ((fb_counts['FLOOR'] == f) & (fb_counts['BUILDINGID'] == b)).any():\n",
    "            fb_counts = fb_counts.append({'FLOOR':f,'BUILDINGID':b,'TIMESTAMP':0}, ignore_index=True)\n",
    "fb_counts.groupby(['BUILDINGID']).TIMESTAMP.sum().reset_index().rename(columns={'TIMESTAMP':'RECORDS'})"
   ]
  },
  {
   "cell_type": "code",
   "execution_count": 12,
   "metadata": {
    "colab": {},
    "colab_type": "code",
    "id": "88fEexccC1AG",
    "outputId": "996681f5-8263-4a52-b0b3-f5b34ff617dc"
   },
   "outputs": [
    {
     "data": {
      "image/png": "[encoded data removed]",
      "text/plain": [
       "<Figure size 1080x360 with 1 Axes>"
      ]
     },
     "metadata": {
      "needs_background": "light"
     },
     "output_type": "display_data"
    }
   ],
   "source": [
    "pivot_fb = fb_counts.pivot(index='FLOOR',columns='BUILDINGID')\n",
    "buildings = list(set(fb_counts['BUILDINGID'].tolist()))\n",
    "\n",
    "plt.figure(figsize=(15,5))\n",
    "\n",
    "bars = create_stacked_bar(pivot_fb.values, plt)\n",
    "# Plot formatting\n",
    "plt.legend((reversed([x[0] for x in bars])), (4,3,2,1,0),fancybox=True)\n",
    "plt.title('Number of Records by Building and Floor', fontsize=20)\n",
    "plt.xticks(buildings)\n",
    "plt.xlabel('Buildings')\n",
    "plt.ylabel('Number of Records')\n",
    "\n",
    "plt.show()"
   ]
  },
  {
   "cell_type": "code",
   "execution_count": 13,
   "metadata": {
    "colab": {},
    "colab_type": "code",
    "id": "V5y9V03LC1AI",
    "outputId": "beb566eb-a317-4200-ef9b-6b2e6f0d5f62"
   },
   "outputs": [
    {
     "data": {
      "text/html": [
       "<div>\n",
       "<style scoped>\n",
       "    .dataframe tbody tr th:only-of-type {\n",
       "        vertical-align: middle;\n",
       "    }\n",
       "\n",
       "    .dataframe tbody tr th {\n",
       "        vertical-align: top;\n",
       "    }\n",
       "\n",
       "    .dataframe thead th {\n",
       "        text-align: right;\n",
       "    }\n",
       "</style>\n",
       "<table border=\"1\" class=\"dataframe\">\n",
       "  <thead>\n",
       "    <tr style=\"text-align: right;\">\n",
       "      <th>BUILDINGID</th>\n",
       "      <th>0</th>\n",
       "      <th>1</th>\n",
       "      <th>2</th>\n",
       "    </tr>\n",
       "    <tr>\n",
       "      <th>FLOOR</th>\n",
       "      <th></th>\n",
       "      <th></th>\n",
       "      <th></th>\n",
       "    </tr>\n",
       "  </thead>\n",
       "  <tbody>\n",
       "    <tr>\n",
       "      <th>4</th>\n",
       "      <td>0.00%</td>\n",
       "      <td>0.00%</td>\n",
       "      <td>11.61%</td>\n",
       "    </tr>\n",
       "    <tr>\n",
       "      <th>3</th>\n",
       "      <td>26.50%</td>\n",
       "      <td>18.24%</td>\n",
       "      <td>28.54%</td>\n",
       "    </tr>\n",
       "    <tr>\n",
       "      <th>2</th>\n",
       "      <td>27.49%</td>\n",
       "      <td>26.87%</td>\n",
       "      <td>16.61%</td>\n",
       "    </tr>\n",
       "    <tr>\n",
       "      <th>1</th>\n",
       "      <td>25.83%</td>\n",
       "      <td>28.56%</td>\n",
       "      <td>22.78%</td>\n",
       "    </tr>\n",
       "    <tr>\n",
       "      <th>0</th>\n",
       "      <td>20.18%</td>\n",
       "      <td>26.33%</td>\n",
       "      <td>20.46%</td>\n",
       "    </tr>\n",
       "  </tbody>\n",
       "</table>\n",
       "</div>"
      ],
      "text/plain": [
       "BUILDINGID       0       1       2\n",
       "FLOOR                             \n",
       "4            0.00%   0.00%  11.61%\n",
       "3           26.50%  18.24%  28.54%\n",
       "2           27.49%  26.87%  16.61%\n",
       "1           25.83%  28.56%  22.78%\n",
       "0           20.18%  26.33%  20.46%"
      ]
     },
     "execution_count": 13,
     "metadata": {},
     "output_type": "execute_result"
    }
   ],
   "source": [
    "pivot_fb.columns = pivot_fb.columns.droplevel()\n",
    "pivot_fb = pivot_fb.sort_index(ascending=False)\n",
    "for col in pivot_fb.columns:\n",
    "    total = pivot_fb[col].sum()\n",
    "    pivot_fb[col] = pivot_fb[col].apply(lambda x: \"%.2f%%\" % ((x/total)*100))\n",
    "pivot_fb"
   ]
  },
  {
   "cell_type": "markdown",
   "metadata": {
    "colab_type": "text",
    "collapsed": true,
    "id": "VYwkJ4eBC1AJ"
   },
   "source": [
    "* Only Building 2 has Level 4\n",
    "* Relatively even distribution across all floors in Buildings 0 and 1\n",
    "* Higher activity levels recorded on Levels 1 & 3 for Building 2"
   ]
  },
  {
   "cell_type": "markdown",
   "metadata": {
    "colab_type": "text",
    "id": "gyoR8_YPC1AK"
   },
   "source": [
    "## EDA on *Input Variables*\n",
    "#### In addition to examining the target variables, a quick sense check is conducted on the input variables as well. \n",
    "* Due to high dimensionality (520 WAP columns), the variables are condensed to a single column per record - highest signal strength across all WAP\n",
    "* Adds additional layer of analysis based on factors not considered by mere count of records - e.g. how does height of user / phone used / building floor affect signal strength\n",
    "* Might help explain any variance in prediction models - e.g. higher accuracy for certain buildings & floors\n",
    "\n",
    "#### Maximum RSSI of the WAPs - check whether any WAPs have no recorded data; aids in feature selection for modelling"
   ]
  },
  {
   "cell_type": "markdown",
   "metadata": {
    "colab_type": "text",
    "id": "Sx5HINj2C1AK"
   },
   "source": [
    "### Condensing input variables into single column - max_signal"
   ]
  },
  {
   "cell_type": "code",
   "execution_count": 14,
   "metadata": {
    "colab": {},
    "colab_type": "code",
    "id": "NJ_p7MKTC1AK",
    "outputId": "829d9a20-7b46-428f-96b8-d813da9c70b2"
   },
   "outputs": [
    {
     "data": {
      "text/html": [
       "<div>\n",
       "<style scoped>\n",
       "    .dataframe tbody tr th:only-of-type {\n",
       "        vertical-align: middle;\n",
       "    }\n",
       "\n",
       "    .dataframe tbody tr th {\n",
       "        vertical-align: top;\n",
       "    }\n",
       "\n",
       "    .dataframe thead th {\n",
       "        text-align: right;\n",
       "    }\n",
       "</style>\n",
       "<table border=\"1\" class=\"dataframe\">\n",
       "  <thead>\n",
       "    <tr style=\"text-align: right;\">\n",
       "      <th></th>\n",
       "      <th>LONGITUDE</th>\n",
       "      <th>LATITUDE</th>\n",
       "      <th>FLOOR</th>\n",
       "      <th>BUILDINGID</th>\n",
       "      <th>SPACEID</th>\n",
       "      <th>RELATIVEPOSITION</th>\n",
       "      <th>USERID</th>\n",
       "      <th>PHONEID</th>\n",
       "      <th>TIMESTAMP</th>\n",
       "      <th>max_signal</th>\n",
       "    </tr>\n",
       "  </thead>\n",
       "  <tbody>\n",
       "    <tr>\n",
       "      <th>0</th>\n",
       "      <td>-7541.2643</td>\n",
       "      <td>4.864921e+06</td>\n",
       "      <td>2</td>\n",
       "      <td>1</td>\n",
       "      <td>106</td>\n",
       "      <td>2</td>\n",
       "      <td>2</td>\n",
       "      <td>23</td>\n",
       "      <td>1371713733</td>\n",
       "      <td>-53.0</td>\n",
       "    </tr>\n",
       "    <tr>\n",
       "      <th>1</th>\n",
       "      <td>-7536.6212</td>\n",
       "      <td>4.864934e+06</td>\n",
       "      <td>2</td>\n",
       "      <td>1</td>\n",
       "      <td>106</td>\n",
       "      <td>2</td>\n",
       "      <td>2</td>\n",
       "      <td>23</td>\n",
       "      <td>1371713691</td>\n",
       "      <td>-46.0</td>\n",
       "    </tr>\n",
       "    <tr>\n",
       "      <th>2</th>\n",
       "      <td>-7519.1524</td>\n",
       "      <td>4.864950e+06</td>\n",
       "      <td>2</td>\n",
       "      <td>1</td>\n",
       "      <td>103</td>\n",
       "      <td>2</td>\n",
       "      <td>2</td>\n",
       "      <td>23</td>\n",
       "      <td>1371714095</td>\n",
       "      <td>-61.0</td>\n",
       "    </tr>\n",
       "    <tr>\n",
       "      <th>3</th>\n",
       "      <td>-7524.5704</td>\n",
       "      <td>4.864934e+06</td>\n",
       "      <td>2</td>\n",
       "      <td>1</td>\n",
       "      <td>102</td>\n",
       "      <td>2</td>\n",
       "      <td>2</td>\n",
       "      <td>23</td>\n",
       "      <td>1371713807</td>\n",
       "      <td>-55.0</td>\n",
       "    </tr>\n",
       "    <tr>\n",
       "      <th>4</th>\n",
       "      <td>-7632.1436</td>\n",
       "      <td>4.864982e+06</td>\n",
       "      <td>0</td>\n",
       "      <td>0</td>\n",
       "      <td>122</td>\n",
       "      <td>2</td>\n",
       "      <td>11</td>\n",
       "      <td>13</td>\n",
       "      <td>1369909710</td>\n",
       "      <td>NaN</td>\n",
       "    </tr>\n",
       "  </tbody>\n",
       "</table>\n",
       "</div>"
      ],
      "text/plain": [
       "   LONGITUDE      LATITUDE  FLOOR  BUILDINGID  SPACEID  RELATIVEPOSITION  \\\n",
       "0 -7541.2643  4.864921e+06      2           1      106                 2   \n",
       "1 -7536.6212  4.864934e+06      2           1      106                 2   \n",
       "2 -7519.1524  4.864950e+06      2           1      103                 2   \n",
       "3 -7524.5704  4.864934e+06      2           1      102                 2   \n",
       "4 -7632.1436  4.864982e+06      0           0      122                 2   \n",
       "\n",
       "   USERID  PHONEID   TIMESTAMP  max_signal  \n",
       "0       2       23  1371713733       -53.0  \n",
       "1       2       23  1371713691       -46.0  \n",
       "2       2       23  1371714095       -61.0  \n",
       "3       2       23  1371713807       -55.0  \n",
       "4      11       13  1369909710         NaN  "
      ]
     },
     "execution_count": 14,
     "metadata": {},
     "output_type": "execute_result"
    }
   ],
   "source": [
    "sub_train = train[[x for x in train.columns if 'WAP' not in x]]\n",
    "sub_train['max_signal'] = train.loc[:,[x for x in train.columns if 'WAP' in x]].replace(100,np.NaN).max(axis=1)\n",
    "sub_train.head()"
   ]
  },
  {
   "cell_type": "markdown",
   "metadata": {
    "colab_type": "text",
    "id": "VmUQo0BNC1AM"
   },
   "source": [
    "As seen in Row 4 of the sample table, some records do not have any *max_signal* strength - all WAPs for that record received no RSSI reading (denoted as 100 in this dataset). These rows are **not** automatically filtered out as they might provide additional insights and be essential to modelling."
   ]
  },
  {
   "cell_type": "markdown",
   "metadata": {
    "colab_type": "text",
    "id": "RdjUNQA0C1AM"
   },
   "source": [
    "### Examining records with no RSSI readings (NaN records)"
   ]
  },
  {
   "cell_type": "code",
   "execution_count": 15,
   "metadata": {
    "colab": {},
    "colab_type": "code",
    "id": "_4w8cBnrC1AN",
    "outputId": "fc38e203-4295-41e7-e962-096cc7720c0a"
   },
   "outputs": [
    {
     "data": {
      "image/png": "[encoded data removed]",
      "text/plain": [
       "<Figure size 1440x720 with 4 Axes>"
      ]
     },
     "metadata": {
      "needs_background": "light"
     },
     "output_type": "display_data"
    }
   ],
   "source": [
    "nan_sub = sub_train.loc[np.isnan(sub_train['max_signal']),]\n",
    "fig, ((ax1, ax2), (ax3, ax4)) = plt.subplots(2, 2,figsize=(20,10))\n",
    "\n",
    "# First subplot: distribution of NaN records per user\n",
    "nan_users = nan_sub.groupby(['USERID']).TIMESTAMP.count().reset_index()\n",
    "for x in np.arange(0,19):\n",
    "    if x not in nan_users['USERID'].values:\n",
    "        nan_users = nan_users.append({'USERID':x,'TIMESTAMP':0}, ignore_index=True)\n",
    "ax1.bar(nan_users['USERID'],height=nan_users['TIMESTAMP'])\n",
    "format_subplot(ax1, 'Number of NaN Records per User', 'USERID', nan_users['USERID'])\n",
    "\n",
    "# Second subplot: lat-long scatter plot\n",
    "ax2.scatter(nan_sub['LONGITUDE'],nan_sub['LATITUDE'])\n",
    "ax2.set_title(\"Geographical Distribution of NaN Records\",fontsize=20)\n",
    "\n",
    "# Third subplot: building & floor\n",
    "nan_fb = nan_sub.groupby(['FLOOR','BUILDINGID']).TIMESTAMP.count().reset_index()\n",
    "for f in np.arange(0,5):\n",
    "    for b in np.arange(0,3):\n",
    "        if not ((nan_fb['FLOOR'] == f) & (nan_fb['BUILDINGID'] == b)).any():\n",
    "            nan_fb = nan_fb.append({'FLOOR':f,'BUILDINGID':b,'TIMESTAMP':0}, ignore_index=True)\n",
    "bars = create_stacked_bar(nan_fb.pivot(index='FLOOR',columns='BUILDINGID').values,ax3)\n",
    "ax3.legend((reversed([x[0] for x in bars])), (4,3,2,1,0),fancybox=True)\n",
    "format_subplot(ax3, 'Number of NaN Records by building and floor', 'Buildings', list(set(nan_fb['BUILDINGID'])))\n",
    "\n",
    "ax4.axis('off')\n",
    "plt.tight_layout()\n",
    "plt.show()"
   ]
  },
  {
   "cell_type": "code",
   "execution_count": 16,
   "metadata": {
    "colab": {},
    "colab_type": "code",
    "id": "GtwLAyhUC1AP",
    "outputId": "fdbea58d-b1af-4151-b91a-c47d21bcd251"
   },
   "outputs": [
    {
     "name": "stdout",
     "output_type": "stream",
     "text": [
      "Number of records with no RSSI readings (i.e. NaN records): 76 (0.38%)\n",
      "Number of NaN records from User 8: 59 (77.63%)\n",
      "Number of NaN records within VALIDATION set: 0 (0.00%)\n"
     ]
    }
   ],
   "source": [
    "nan_rows = sub_train['max_signal'].isnull().sum()\n",
    "print(\"Number of records with no RSSI readings (i.e. NaN records): %i (%.2f%%)\" % (nan_rows, (nan_rows/len(sub_train)*100)))\n",
    "\n",
    "user8_nan = nan_users.loc[nan_users['USERID']==8,'TIMESTAMP'].sum()\n",
    "print(\"Number of NaN records from User 8: %i (%.2f%%)\" % (user8_nan, (user8_nan/nan_users['TIMESTAMP'].sum()*100)))\n",
    "\n",
    "sub_test = test[[x for x in test.columns if 'WAP' not in x]]\n",
    "sub_test['max_signal'] = test.loc[:,[x for x in test.columns if 'WAP' in x]].replace(100,np.NaN).max(axis=1)\n",
    "test_nan = sub_test['max_signal'].isnull().sum()\n",
    "print(\"Number of NaN records within VALIDATION set: %i (%.2f%%)\" % (test_nan, (test_nan/len(sub_test)*100)))"
   ]
  },
  {
   "cell_type": "markdown",
   "metadata": {
    "colab_type": "text",
    "id": "9YcYHwezC1AR"
   },
   "source": [
    "Majority of the NaN records originate from User 8:\n",
    "* Geographical distribution shows few concentrated clusters\n",
    "* Large proportion of records from the same buildings & floors (Level 3 of Building 1 & Level 0 of Building 2)\n",
    "\n",
    "It is safe enough to assume that this issue is largely limited to that particular user, probably with a regular schedule (concentrated location clusters).\n",
    "\n",
    "Furthermore, these NaN records make up a very small percentage of training set (<1%) and there are no NaN records in the validation set.\n",
    "#### These rows can be safely be filtered out."
   ]
  },
  {
   "cell_type": "code",
   "execution_count": 17,
   "metadata": {
    "colab": {},
    "colab_type": "code",
    "id": "fLpENc0sC1AR"
   },
   "outputs": [],
   "source": [
    "nan_rows_index = nan_sub.index.tolist()\n",
    "train = train.iloc[[x for x in train.index if x not in nan_rows_index]]\n",
    "sub_train = sub_train.iloc[[x for x in train.index if x not in nan_rows_index]]"
   ]
  },
  {
   "cell_type": "markdown",
   "metadata": {
    "colab_type": "text",
    "id": "takBVL8VC1AT"
   },
   "source": [
    "### Average max signal by user"
   ]
  },
  {
   "cell_type": "code",
   "execution_count": 18,
   "metadata": {
    "colab": {},
    "colab_type": "code",
    "id": "0UYOqfswC1AT",
    "outputId": "0f991cdf-430d-47e0-f11a-8607452279bf"
   },
   "outputs": [
    {
     "data": {
      "image/png": "[encoded data removed]",
      "text/plain": [
       "<Figure size 1440x360 with 2 Axes>"
      ]
     },
     "metadata": {
      "needs_background": "light"
     },
     "output_type": "display_data"
    }
   ],
   "source": [
    "fig, (ax1,ax2) = plt.subplots(1,2, figsize=(20,5))\n",
    "# First subplot: average max signal per user\n",
    "signal_user = sub_train.groupby(['USERID']).max_signal.mean().reset_index()\n",
    "ax1.bar(signal_user['USERID'],height=signal_user['max_signal'])\n",
    "format_subplot(ax1, 'Average Max Signal per User', 'USERID', signal_user['USERID'])\n",
    "\n",
    "# Second subplot: by device\n",
    "signal_user = signal_user.merge(map_user,how='left',on='USERID')\n",
    "ax2.bar(signal_user['HEIGHT'],height=signal_user['max_signal'],color='green')\n",
    "format_subplot(ax2, 'Average Max Signal per User', 'HEIGHT (CM)')\n",
    "\n",
    "plt.show()"
   ]
  },
  {
   "cell_type": "code",
   "execution_count": 19,
   "metadata": {
    "colab": {},
    "colab_type": "code",
    "id": "wKD8O-E_C1AV",
    "outputId": "39cd8bb8-9e50-4d13-f6a1-14f60443dd7c"
   },
   "outputs": [
    {
     "name": "stdout",
     "output_type": "stream",
     "text": [
      "Correlation between Average Max Signal and Height = 0.3501\n"
     ]
    }
   ],
   "source": [
    "print(\"Correlation between Average Max Signal and Height = %.4f\" % signal_user['max_signal'].corr(signal_user['HEIGHT']))"
   ]
  },
  {
   "cell_type": "markdown",
   "metadata": {
    "colab_type": "text",
    "id": "9D3X4A0cC1AX"
   },
   "source": [
    "* Variations in signal strength observed - User 6 has average strongest signal while User 17 has the weakest\n",
    "* Height, while slightly positively correlated, does not seem to have a strong linear relationship with Average Max Signal"
   ]
  },
  {
   "cell_type": "markdown",
   "metadata": {
    "colab_type": "text",
    "id": "XWE3qK5bC1AX"
   },
   "source": [
    "### Average max signal by phone model"
   ]
  },
  {
   "cell_type": "code",
   "execution_count": 20,
   "metadata": {
    "colab": {},
    "colab_type": "code",
    "id": "QwrFPlaLC1AY",
    "outputId": "1de7af7a-2a36-4b82-da9f-5e3af9f54fbc"
   },
   "outputs": [
    {
     "data": {
      "image/png": "[encoded data removed]",
      "text/plain": [
       "<Figure size 1440x864 with 2 Axes>"
      ]
     },
     "metadata": {
      "needs_background": "light"
     },
     "output_type": "display_data"
    }
   ],
   "source": [
    "fig, ((ax1),(ax2)) = plt.subplots(2,1, figsize=(20,12))\n",
    "signal_device = sub_train.groupby(['PHONEID']).max_signal.mean().reset_index()\n",
    "signal_device = signal_device.merge(map_phone,how='left',on='PHONEID')\n",
    "\n",
    "# First subplot: by device name\n",
    "signal_device = signal_device.sort_values('max_signal').reset_index()\n",
    "ax1.bar(signal_device.index, signal_device['max_signal'])\n",
    "format_subplot(ax1, 'Average Max Signal by Phone Models', 'PHONE MODELS')\n",
    "ax1.set_xticks(signal_device.index)\n",
    "ax1.set_xticklabels(signal_device['DEVICE_NAME'],rotation=40,fontsize=12)\n",
    "\n",
    "# Second subplot: by android version\n",
    "signal_av = signal_device.groupby(['ANDROID_VER']).max_signal.mean().reset_index()\n",
    "ax2.bar(signal_av.index, signal_av['max_signal'],color='purple')\n",
    "format_subplot(ax2, 'Average Max Signal by Android Version', 'ANDROID VERSION')\n",
    "ax2.set_xticks(signal_av.index)\n",
    "ax2.set_xticklabels(signal_av['ANDROID_VER'],rotation=40,fontsize=12)\n",
    "\n",
    "plt.tight_layout()\n",
    "plt.show()"
   ]
  },
  {
   "cell_type": "markdown",
   "metadata": {
    "colab_type": "text",
    "id": "ocd9C4J6C1AZ"
   },
   "source": [
    "* Nexus 4 receives the strongest signal while Orange Monte Carlo receives the weakest\n",
    "* Visible trend across Android versions - the newer the version, the stronger the signal received"
   ]
  },
  {
   "cell_type": "markdown",
   "metadata": {
    "colab_type": "text",
    "id": "P4BxVEvKC1AZ"
   },
   "source": [
    "### Average max signal by building & floor"
   ]
  },
  {
   "cell_type": "code",
   "execution_count": 21,
   "metadata": {
    "colab": {},
    "colab_type": "code",
    "id": "dkDiDFoXC1Aa",
    "outputId": "cb0e3cf9-a7a0-4a11-fdc4-6277346d58e1"
   },
   "outputs": [
    {
     "data": {
      "image/png": "[encoded data removed]",
      "text/plain": [
       "<Figure size 1440x360 with 1 Axes>"
      ]
     },
     "metadata": {
      "needs_background": "light"
     },
     "output_type": "display_data"
    }
   ],
   "source": [
    "signal_fb = sub_train.groupby(['BUILDINGID','FLOOR']).max_signal.mean().reset_index().pivot(index='BUILDINGID',columns='FLOOR').fillna(0)\n",
    "plt.figure(figsize=(20,5))\n",
    "bars = create_clustered_bar(signal_fb.values,plt)\n",
    "plt.legend((reversed([x[0] for x in bars])), (4,3,2,1,0),fancybox=True)\n",
    "plt.title('Average Max Signal by Building and Floor',fontsize=20)\n",
    "plt.xticks(signal_fb.index)\n",
    "plt.xlabel('Buildings')\n",
    "plt.show()"
   ]
  },
  {
   "cell_type": "markdown",
   "metadata": {
    "colab_type": "text",
    "id": "MybNmgQKC1Ab"
   },
   "source": [
    "* Buildings 0 and 2 follow a similar trend - the higher the floor, the stronger the signal\n",
    "* Whereas Building 1 reverses that trend\n",
    "* Difficult to determine a causal relationship - could be affected by external factors (e.g. placement of WAPs, infrastructure of the buildings etc.)"
   ]
  },
  {
   "cell_type": "markdown",
   "metadata": {
    "colab_type": "text",
    "id": "Cv5cmMyeC1Ab"
   },
   "source": [
    "### Sense check on RSSI across all WAPs"
   ]
  },
  {
   "cell_type": "code",
   "execution_count": 22,
   "metadata": {
    "colab": {},
    "colab_type": "code",
    "id": "C5bns66uC1Ac",
    "outputId": "6b67b72b-7955-438a-f3a7-add99ee4553b"
   },
   "outputs": [
    {
     "data": {
      "image/png": "[encoded data removed]",
      "text/plain": [
       "<Figure size 1440x360 with 1 Axes>"
      ]
     },
     "metadata": {
      "needs_background": "light"
     },
     "output_type": "display_data"
    }
   ],
   "source": [
    "wap_max = train[[x for x in train.columns if 'WAP' in x]].replace(100,np.nan).max(axis=0).reset_index()\n",
    "wap_max = wap_max.rename(columns={'index':'wap_name', 0: 'max_signal'}).fillna(10)\n",
    "plt.figure(figsize=(20,5))\n",
    "plt.bar(wap_max.index, wap_max['max_signal'])\n",
    "plt.title('Max RSSI for All WAPs',fontsize=20)\n",
    "plt.xlabel('WAPs')\n",
    "plt.ylabel('RSSI')\n",
    "plt.show()"
   ]
  },
  {
   "cell_type": "markdown",
   "metadata": {
    "colab_type": "text",
    "id": "3GTHb_DsC1Ad"
   },
   "source": [
    "Several WAPs have positive values:\n",
    "* These columns do not have any RSSI values across all records in training dataset\n",
    "* To reduce dimensionality and computational intensity of modelling, these variables can be removed"
   ]
  },
  {
   "cell_type": "code",
   "execution_count": 23,
   "metadata": {
    "colab": {},
    "colab_type": "code",
    "id": "oDy8YPTTC1Ad",
    "outputId": "ce133f08-c970-4007-86eb-e8f6441319eb"
   },
   "outputs": [
    {
     "name": "stdout",
     "output_type": "stream",
     "text": [
      "Number of WAP variables removed: 55\n",
      "Remaining WAP variables: 465\n"
     ]
    }
   ],
   "source": [
    "cols_torm = wap_max.loc[wap_max['max_signal']==10,'wap_name'].tolist()\n",
    "train = train.drop(train[cols_torm],axis=1)\n",
    "test = test.drop(test[cols_torm],axis=1)\n",
    "\n",
    "print('Number of WAP variables removed: %i' % len(cols_torm))\n",
    "print('Remaining WAP variables: %i' % len([x for x in train.columns if 'WAP' in x]))"
   ]
  }
 ],
 "metadata": {
  "colab": {
   "name": "Location Dataset - Analysis & Predictions.ipynb",
   "provenance": [],
   "version": "0.3.2"
  },
  "kernelspec": {
   "display_name": "personal-github",
   "language": "python",
   "name": "personal-github"
  },
  "language_info": {
   "codemirror_mode": {
    "name": "ipython",
    "version": 3
   },
   "file_extension": ".py",
   "mimetype": "text/x-python",
   "name": "python",
   "nbconvert_exporter": "python",
   "pygments_lexer": "ipython3",
   "version": "3.7.4"
  },
  "varInspector": {
   "cols": {
    "lenName": 16,
    "lenType": 16,
    "lenVar": 40
   },
   "kernels_config": {
    "python": {
     "delete_cmd_postfix": "",
     "delete_cmd_prefix": "del ",
     "library": "var_list.py",
     "varRefreshCmd": "print(var_dic_list())"
    },
    "r": {
     "delete_cmd_postfix": ") ",
     "delete_cmd_prefix": "rm(",
     "library": "var_list.r",
     "varRefreshCmd": "cat(var_dic_list()) "
    }
   },
   "position": {
    "height": "408px",
    "left": "1008px",
    "right": "20px",
    "top": "169px",
    "width": "487px"
   },
   "types_to_exclude": [
    "module",
    "function",
    "builtin_function_or_method",
    "instance",
    "_Feature"
   ],
   "window_display": false
  }
 },
 "nbformat": 4,
 "nbformat_minor": 1
}
